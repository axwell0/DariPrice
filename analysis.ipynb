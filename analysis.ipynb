{
 "cells": [
  {
   "cell_type": "code",
   "metadata": {
    "id": "x7zeHk-56spF",
    "ExecuteTime": {
     "end_time": "2024-12-02T11:19:17.180178Z",
     "start_time": "2024-12-02T11:19:17.176076Z"
    }
   },
   "source": [
    "from sklearn.model_selection import train_test_split\n",
    "\n",
    "def get_collection(client, name):\n",
    "    return pd.DataFrame(client['Houses'][name].find({})).drop(['_id', 'url','description'], axis=1)\n",
    "def convert_price_to_tnd(df, price_column='price', eur_to_tnd=3.34):\n",
    "    h = df.copy()\n",
    "    h[price_column] = (\n",
    "        h[price_column]\n",
    "        .str.extract(r'(\\d[\\d\\s]*)')[0]\n",
    "        .str.replace(r'\\s+', '', regex=True).str.replace(',','',regex=True)\n",
    "        .astype(float)\n",
    "        * h[price_column].apply(lambda x: eur_to_tnd if 'EUR' in x else 1)\n",
    "    )\n",
    "    h = h.reset_index(drop=True)\n",
    "    return h.copy()\n",
    "\n"
   ],
   "outputs": [],
   "execution_count": 2
  },
  {
   "cell_type": "code",
   "metadata": {
    "id": "DFkXdWHA7Rgb",
    "ExecuteTime": {
     "end_time": "2024-12-02T11:19:19.023394Z",
     "start_time": "2024-12-02T11:19:17.997055Z"
    }
   },
   "source": [
    "import pandas as pd\n",
    "import pymongo\n",
    "import seaborn as sns\n",
    "import warnings\n",
    "import os\n",
    "import matplotlib.pyplot as plt\n",
    "from dotenv import load_dotenv\n",
    "\n",
    "\n",
    "\n",
    "load_dotenv(dotenv_path='secret.env')  # Contains MongoDB URI\n",
    "\n",
    "warnings.filterwarnings('ignore')\n",
    "\n",
    "mongodb_uri = os.getenv('MONGODB_URI')\n",
    "client = pymongo.MongoClient(mongodb_uri)"
   ],
   "outputs": [],
   "execution_count": 3
  },
  {
   "cell_type": "code",
   "metadata": {
    "id": "nnH3D9lF7pSH",
    "ExecuteTime": {
     "end_time": "2024-12-02T11:19:33.573406Z",
     "start_time": "2024-12-02T11:19:22.210044Z"
    }
   },
   "source": [
    "affare = get_collection(client, 'Affare')"
   ],
   "outputs": [],
   "execution_count": 4
  },
  {
   "cell_type": "code",
   "source": [
    "affare['Type'].value_counts()"
   ],
   "metadata": {
    "colab": {
     "base_uri": "https://localhost:8080/",
     "height": 418
    },
    "id": "tU7K0pk-jnpc",
    "outputId": "2485b922-7e0f-41b3-dddd-2fbc775b7f24",
    "ExecuteTime": {
     "end_time": "2024-12-02T03:22:40.708689Z",
     "start_time": "2024-12-02T03:22:40.697062Z"
    }
   },
   "outputs": [
    {
     "data": {
      "text/plain": [
       "Type\n",
       "Vente - Maisons            8274\n",
       "Terrains & Fermes          8188\n",
       "Location - Appartements    4533\n",
       "Vente - Appartements       3987\n",
       "Location - Maisons         2280\n",
       "Location de vacances       1907\n",
       "Commerces & Bureaux        1656\n",
       "Autre Immobilier            341\n",
       "Colocations                  19\n",
       "Name: count, dtype: int64"
      ]
     },
     "execution_count": 169,
     "metadata": {},
     "output_type": "execute_result"
    }
   ],
   "execution_count": 169
  },
  {
   "cell_type": "code",
   "metadata": {
    "id": "4NM8QKnw7umt",
    "ExecuteTime": {
     "end_time": "2024-12-02T11:19:33.869065Z",
     "start_time": "2024-12-02T11:19:33.574408Z"
    }
   },
   "source": [
    "affare_df = affare[affare['price'].isna() == False].copy()\n",
    "affare_df = convert_price_to_tnd(affare_df, 'price')\n",
    "affare_df.drop(['Meublée', 'posting_date', 'Adresse'], axis=1, inplace=True)\n",
    "affare_df['Chambre'] = affare_df['Chambre'].str.extract('(\\d+)').astype(float)\n",
    "affare_df['Salles de bains'] = affare_df['Salles de bains'].str.extract('(\\d+)').astype(float)\n",
    "affare_df['Superficie'] = affare_df['Superficie'].str.extract('(\\d+)').astype(float)\n",
    "affare_df['city'] = affare_df['location'].str.split(' - ', expand=True).loc[:, 1].str.lower().str.replace('é', 'e').str.replace('è','e').str.replace('à','a').apply(lambda x : 'djerba' if 'djerba' in x else x)\n",
    "affare_df['state'] = affare_df['location'].str.split(' - ', expand=True).loc[:, 0].str.lower().str.replace('é', 'e').str.replace('è','e').str.replace('à','a')\n",
    "affare_df = affare_df[(affare_df['Type'] == 'Vente - Appartements') | (affare_df['Type'] == 'Vente - Maisons') | (affare_df['Type'] == 'Terrains & Fermes')]\n",
    "\n",
    "affare_df['Type'] = affare_df['Type'].map({'Vente - Appartements':'appartement','Vente - Maisons':'villa','Terrains & Fermes':'terrain'})\n",
    "affare_df.rename(\n",
    "    {\"Chambre\": 'n_bedrooms',\n",
    "    'Salles de bains': 'n_bathrooms',\n",
    "    'Superficie': 'area'}\n",
    "    , axis='columns', inplace=True)\n",
    "affare_df.loc[affare_df['Type'] == 'terrain', ['n_bedrooms', 'n_bathrooms']] = affare_df.loc[affare_df['Type'] == 'terrain', ['n_bedrooms', 'n_bathrooms']].fillna(0)\n",
    "\n",
    "\n",
    "\n",
    "df = affare_df.copy()\n"
   ],
   "outputs": [],
   "execution_count": 5
  },
  {
   "cell_type": "code",
   "source": [
    "menzili = get_collection(client, 'menzili')\n",
    "menzili['price'] = menzili['price'].str.replace(' ', '').str.extract('(\\d+)').astype('Int64')\n",
    "menzili.dropna(subset=['Surf terrain', 'Salle de bain', 'Chambres', 'price', 'location'],inplace=True)\n",
    "menzili.drop(['Piéces Totale', 'Année construction', 'Surf habitable', 'misc'], axis=1, inplace=True)\n",
    "menzili.rename({'Chambres': 'n_bedrooms', 'Salle de bain': 'n_bathrooms', 'Surf terrain': 'area'}, axis='columns', inplace=True)\n",
    "menzili['n_bedrooms'] = menzili['n_bedrooms'].str.replace('+', '').astype('Int64')\n",
    "menzili['n_bathrooms'] = menzili['n_bathrooms'].str.replace('+', '').astype('Int64')\n",
    "menzili['area'] = menzili['area'].str.extract('(\\d+)').astype('Int64')\n",
    "menzili['state'] = menzili['location'].str.split(', ', expand=True).loc[:, 2].str.lower().str.replace('é', 'e').str.replace('è','e').str.replace('à','a')\n",
    "menzili['city'] = menzili['location'].str.split(', ', expand=True).loc[:, 1].str.lower().str.replace('é', 'e').str.replace('è','e').str.replace('à','a')\n",
    "\n",
    "menzili.dropna(subset=['city', 'state'], inplace=True)\n",
    "menzili['city'] = menzili['city'].str.replace('djerba - midoun', 'djerba')\n",
    "menzili['city'] = menzili['city'].apply(lambda x : 'djerba' if 'djerba' in x else x)"
   ],
   "metadata": {
    "id": "y0rK7l-5sDWz",
    "ExecuteTime": {
     "end_time": "2024-12-02T11:19:42.436898Z",
     "start_time": "2024-12-02T11:19:33.870063Z"
    }
   },
   "outputs": [],
   "execution_count": 6
  },
  {
   "cell_type": "code",
   "source": [
    "FEATURES = ['n_bedrooms','n_bathrooms','area','price','title','Type','city','state']\n",
    "agg = pd.concat([menzili[FEATURES],df[FEATURES]],axis=0).reset_index(drop=True)"
   ],
   "metadata": {
    "id": "t1HU6iM7sIJ0",
    "ExecuteTime": {
     "end_time": "2024-12-02T11:19:42.456895Z",
     "start_time": "2024-12-02T11:19:42.437907Z"
    }
   },
   "outputs": [],
   "execution_count": 7
  },
  {
   "cell_type": "code",
   "source": [
    "agg.drop_duplicates(subset=['title'],inplace=True)"
   ],
   "metadata": {
    "id": "SyKlsfi9s0eO",
    "ExecuteTime": {
     "end_time": "2024-12-02T11:19:42.468517Z",
     "start_time": "2024-12-02T11:19:42.457936Z"
    }
   },
   "outputs": [],
   "execution_count": 8
  },
  {
   "cell_type": "markdown",
   "metadata": {
    "id": "-tg0L2uT7wPu"
   },
   "source": [
    "<h4>Data Integrity Check & Cleaning\n",
    "\n",
    "It is common for online marketplaces to contain data entry errors as can be seen below in the price description. It is important for us to consider a representative and realistic range of prices within which we attempt to build a model. A preliminary lower and upper bound of 60,000 TND and 2,000,000 TND respectively would be appropriate."
   ]
  },
  {
   "cell_type": "code",
   "metadata": {
    "colab": {
     "base_uri": "https://localhost:8080/",
     "height": 314
    },
    "id": "4hrkgwP98Lta",
    "outputId": "2cd75187-329e-46e2-9ec6-b8ba46c95efc",
    "ExecuteTime": {
     "end_time": "2024-12-02T11:19:42.505191Z",
     "start_time": "2024-12-02T11:19:42.468517Z"
    }
   },
   "source": [
    "agg.groupby('Type')['price'].describe().T"
   ],
   "outputs": [
    {
     "data": {
      "text/plain": [
       "Type       appartement            terrain            villa\n",
       "count           3730.0             3415.0           8636.0\n",
       "mean     844799.404021    34657931.203514   4335711.058592\n",
       "std    12187706.946448  1902192833.650738  73135503.860812\n",
       "min                1.0                1.0              1.0\n",
       "25%           175000.0            78000.0         360000.0\n",
       "50%           279000.0           240000.0         770000.0\n",
       "75%           414250.0           528000.0        1100000.0\n",
       "max        520000000.0     111111111111.0     3000000000.0"
      ],
      "text/html": [
       "<div>\n",
       "<style scoped>\n",
       "    .dataframe tbody tr th:only-of-type {\n",
       "        vertical-align: middle;\n",
       "    }\n",
       "\n",
       "    .dataframe tbody tr th {\n",
       "        vertical-align: top;\n",
       "    }\n",
       "\n",
       "    .dataframe thead th {\n",
       "        text-align: right;\n",
       "    }\n",
       "</style>\n",
       "<table border=\"1\" class=\"dataframe\">\n",
       "  <thead>\n",
       "    <tr style=\"text-align: right;\">\n",
       "      <th>Type</th>\n",
       "      <th>appartement</th>\n",
       "      <th>terrain</th>\n",
       "      <th>villa</th>\n",
       "    </tr>\n",
       "  </thead>\n",
       "  <tbody>\n",
       "    <tr>\n",
       "      <th>count</th>\n",
       "      <td>3730.0</td>\n",
       "      <td>3415.0</td>\n",
       "      <td>8636.0</td>\n",
       "    </tr>\n",
       "    <tr>\n",
       "      <th>mean</th>\n",
       "      <td>844799.404021</td>\n",
       "      <td>34657931.203514</td>\n",
       "      <td>4335711.058592</td>\n",
       "    </tr>\n",
       "    <tr>\n",
       "      <th>std</th>\n",
       "      <td>12187706.946448</td>\n",
       "      <td>1902192833.650738</td>\n",
       "      <td>73135503.860812</td>\n",
       "    </tr>\n",
       "    <tr>\n",
       "      <th>min</th>\n",
       "      <td>1.0</td>\n",
       "      <td>1.0</td>\n",
       "      <td>1.0</td>\n",
       "    </tr>\n",
       "    <tr>\n",
       "      <th>25%</th>\n",
       "      <td>175000.0</td>\n",
       "      <td>78000.0</td>\n",
       "      <td>360000.0</td>\n",
       "    </tr>\n",
       "    <tr>\n",
       "      <th>50%</th>\n",
       "      <td>279000.0</td>\n",
       "      <td>240000.0</td>\n",
       "      <td>770000.0</td>\n",
       "    </tr>\n",
       "    <tr>\n",
       "      <th>75%</th>\n",
       "      <td>414250.0</td>\n",
       "      <td>528000.0</td>\n",
       "      <td>1100000.0</td>\n",
       "    </tr>\n",
       "    <tr>\n",
       "      <th>max</th>\n",
       "      <td>520000000.0</td>\n",
       "      <td>111111111111.0</td>\n",
       "      <td>3000000000.0</td>\n",
       "    </tr>\n",
       "  </tbody>\n",
       "</table>\n",
       "</div>"
      ]
     },
     "execution_count": 9,
     "metadata": {},
     "output_type": "execute_result"
    }
   ],
   "execution_count": 9
  },
  {
   "cell_type": "code",
   "metadata": {
    "colab": {
     "base_uri": "https://localhost:8080/",
     "height": 335
    },
    "id": "p-y5Areg71PX",
    "outputId": "38740d3a-9db1-41d1-a37f-9c5bc35806d7",
    "ExecuteTime": {
     "end_time": "2024-12-02T11:19:42.523623Z",
     "start_time": "2024-12-02T11:19:42.505191Z"
    }
   },
   "source": [
    "agg = agg[\n",
    "    ((agg['Type'] == 'appartement') & (agg['price'] >= 70000)) |\n",
    "    ((agg['Type'] == 'villa') & (agg['price'] >= 70000)) | ((agg['Type'] == 'terrain') & (agg['price'] >= 60000))\n",
    "]\n",
    "agg.groupby('Type')['price'].describe(percentiles=[.25, .5, .75, .90]).T\n"
   ],
   "outputs": [
    {
     "data": {
      "text/plain": [
       "Type       appartement            terrain            villa\n",
       "count           3388.0             2663.0           7948.0\n",
       "mean     929605.461629    44440676.768306   4710758.064796\n",
       "std    12785165.707494  2154080496.376215  76224017.529968\n",
       "min            70000.0            60000.0          70000.0\n",
       "25%           200000.0           175500.0         470000.0\n",
       "50%           300000.0           340000.0         800000.0\n",
       "75%           435000.0           651000.0        1180000.0\n",
       "90%           660000.0          1321680.0        1700000.0\n",
       "max        520000000.0     111111111111.0     3000000000.0"
      ],
      "text/html": [
       "<div>\n",
       "<style scoped>\n",
       "    .dataframe tbody tr th:only-of-type {\n",
       "        vertical-align: middle;\n",
       "    }\n",
       "\n",
       "    .dataframe tbody tr th {\n",
       "        vertical-align: top;\n",
       "    }\n",
       "\n",
       "    .dataframe thead th {\n",
       "        text-align: right;\n",
       "    }\n",
       "</style>\n",
       "<table border=\"1\" class=\"dataframe\">\n",
       "  <thead>\n",
       "    <tr style=\"text-align: right;\">\n",
       "      <th>Type</th>\n",
       "      <th>appartement</th>\n",
       "      <th>terrain</th>\n",
       "      <th>villa</th>\n",
       "    </tr>\n",
       "  </thead>\n",
       "  <tbody>\n",
       "    <tr>\n",
       "      <th>count</th>\n",
       "      <td>3388.0</td>\n",
       "      <td>2663.0</td>\n",
       "      <td>7948.0</td>\n",
       "    </tr>\n",
       "    <tr>\n",
       "      <th>mean</th>\n",
       "      <td>929605.461629</td>\n",
       "      <td>44440676.768306</td>\n",
       "      <td>4710758.064796</td>\n",
       "    </tr>\n",
       "    <tr>\n",
       "      <th>std</th>\n",
       "      <td>12785165.707494</td>\n",
       "      <td>2154080496.376215</td>\n",
       "      <td>76224017.529968</td>\n",
       "    </tr>\n",
       "    <tr>\n",
       "      <th>min</th>\n",
       "      <td>70000.0</td>\n",
       "      <td>60000.0</td>\n",
       "      <td>70000.0</td>\n",
       "    </tr>\n",
       "    <tr>\n",
       "      <th>25%</th>\n",
       "      <td>200000.0</td>\n",
       "      <td>175500.0</td>\n",
       "      <td>470000.0</td>\n",
       "    </tr>\n",
       "    <tr>\n",
       "      <th>50%</th>\n",
       "      <td>300000.0</td>\n",
       "      <td>340000.0</td>\n",
       "      <td>800000.0</td>\n",
       "    </tr>\n",
       "    <tr>\n",
       "      <th>75%</th>\n",
       "      <td>435000.0</td>\n",
       "      <td>651000.0</td>\n",
       "      <td>1180000.0</td>\n",
       "    </tr>\n",
       "    <tr>\n",
       "      <th>90%</th>\n",
       "      <td>660000.0</td>\n",
       "      <td>1321680.0</td>\n",
       "      <td>1700000.0</td>\n",
       "    </tr>\n",
       "    <tr>\n",
       "      <th>max</th>\n",
       "      <td>520000000.0</td>\n",
       "      <td>111111111111.0</td>\n",
       "      <td>3000000000.0</td>\n",
       "    </tr>\n",
       "  </tbody>\n",
       "</table>\n",
       "</div>"
      ]
     },
     "execution_count": 10,
     "metadata": {},
     "output_type": "execute_result"
    }
   ],
   "execution_count": 10
  },
  {
   "cell_type": "code",
   "metadata": {
    "colab": {
     "base_uri": "https://localhost:8080/",
     "height": 627
    },
    "id": "faBMhSpf8P09",
    "outputId": "f977e559-15ad-4f48-aa61-87233c916a2f",
    "ExecuteTime": {
     "end_time": "2024-12-02T11:19:42.898241Z",
     "start_time": "2024-12-02T11:19:42.523623Z"
    }
   },
   "source": [
    "from matplotlib.ticker import FuncFormatter #for number formatting on the graph\n",
    "def y_formatter(x, pos):\n",
    "    if x >= 1000:\n",
    "        return f'{int(x / 1000)}k'\n",
    "    return str(int(x))\n",
    "\n",
    "fig, axes = plt.subplots(1, 3, figsize=(12, 6))\n",
    "agg[agg['Type'] == 'villa'].boxplot(column='price', ax=axes[0])\n",
    "agg[agg['Type'] == 'appartement'].boxplot(column='price', ax=axes[1])\n",
    "agg[agg['Type'] == 'terrain'].boxplot(column='price', ax=axes[2])\n",
    "axes[0].set_title('Villa')\n",
    "axes[1].set_title('Appartement')\n",
    "axes[2].set_title('Terrains')\n",
    "\n",
    "for ax in axes:\n",
    "    ax.yaxis.set_major_formatter(FuncFormatter(y_formatter))\n",
    "plt.tight_layout()\n",
    "plt.show()"
   ],
   "outputs": [
    {
     "data": {
      "text/plain": [
       "<Figure size 1200x600 with 3 Axes>"
      ],
      "image/png": "[encoded data removed]"
     },
     "metadata": {},
     "output_type": "display_data"
    }
   ],
   "execution_count": 11
  },
  {
   "cell_type": "markdown",
   "metadata": {
    "id": "TZGdVoo58Q-C"
   },
   "source": [
    "As we can observe, 90% of the villa postings have a price lower than 1,600,000 TND and 90% of appartment postings are listed lower than 640,000 TND.\n",
    "\n",
    "Drawing on our knowledge of the housing market in Tunisia and by referring to dedicated market analysis reports, we will only consider:\n",
    "\n",
    "villa prices in the range (60,000 ; 1,600,000)\n",
    "\n",
    "Apartment prices in the range (60,000; 650,000)\n",
    "\n",
    "With the higher end of these intervals likely representing luxurious postings\n"
   ]
  },
  {
   "cell_type": "code",
   "metadata": {
    "id": "1RwaUsJJ8RzV",
    "ExecuteTime": {
     "end_time": "2024-12-02T11:19:42.909613Z",
     "start_time": "2024-12-02T11:19:42.899250Z"
    }
   },
   "source": [
    "agg = agg[\n",
    "    ((agg['Type'] == 'appartement') & (agg['price'] <= 600000)) |\n",
    "    ((agg['Type'] == 'villa') & (agg['price'] <= 1000000)) | ((agg['Type'] == 'terrain') & (agg['price'] <= 700000))\n",
    "]"
   ],
   "outputs": [],
   "execution_count": 12
  },
  {
   "cell_type": "code",
   "metadata": {
    "colab": {
     "base_uri": "https://localhost:8080/",
     "height": 627
    },
    "id": "aNUkPJ7W8Spc",
    "outputId": "ac018971-36ba-4ea3-900f-faba88af7b59",
    "ExecuteTime": {
     "end_time": "2024-12-02T11:19:43.162534Z",
     "start_time": "2024-12-02T11:19:42.911606Z"
    }
   },
   "source": [
    "from matplotlib.ticker import FuncFormatter #for number formatting on the graph\n",
    "def y_formatter(x, pos):\n",
    "    if x >= 1000:\n",
    "        return f'{int(x / 1000)}k'\n",
    "    return str(int(x))\n",
    "\n",
    "fig, axes = plt.subplots(1, 3, figsize=(12, 6))\n",
    "agg[agg['Type'] == 'villa'].boxplot(column='price', ax=axes[0])\n",
    "agg[agg['Type'] == 'appartement'].boxplot(column='price', ax=axes[1])\n",
    "agg[agg['Type'] == 'terrain'].boxplot(column='price', ax=axes[2])\n",
    "axes[0].set_title('Villa')\n",
    "axes[1].set_title('Appartement')\n",
    "\n",
    "axes[2].set_title('Terrains')\n",
    "for ax in axes:\n",
    "    ax.yaxis.set_major_formatter(FuncFormatter(y_formatter))\n",
    "plt.tight_layout()\n",
    "plt.show()"
   ],
   "outputs": [
    {
     "data": {
      "text/plain": [
       "<Figure size 1200x600 with 3 Axes>"
      ],
      "image/png": "[encoded data removed]"
     },
     "metadata": {},
     "output_type": "display_data"
    }
   ],
   "execution_count": 13
  },
  {
   "cell_type": "code",
   "metadata": {
    "colab": {
     "base_uri": "https://localhost:8080/",
     "height": 616
    },
    "id": "x2ChCgjq8Toq",
    "outputId": "ee68b8c8-b734-4e17-b790-4e366f953bf4",
    "ExecuteTime": {
     "end_time": "2024-12-02T11:19:43.646002Z",
     "start_time": "2024-12-02T11:19:43.163554Z"
    }
   },
   "source": [
    "fig, axes = plt.subplots(1, 3, figsize=(12, 6))\n",
    "sns.kdeplot(agg[agg['Type'] == 'villa']['price'], ax=axes[0])\n",
    "sns.kdeplot(agg[agg['Type'] == 'appartement']['price'], ax=axes[1])\n",
    "sns.kdeplot(agg[agg['Type'] == 'terrain']['price'], ax=axes[2])\n",
    "\n",
    "axes[0].set_title('Villa price distribution')\n",
    "axes[1].set_title('Apartment price distribution')\n",
    "axes[2].set_title('Terrains price distribution')"
   ],
   "outputs": [
    {
     "data": {
      "text/plain": [
       "Text(0.5, 1.0, 'Terrains price distribution')"
      ]
     },
     "execution_count": 14,
     "metadata": {},
     "output_type": "execute_result"
    },
    {
     "data": {
      "text/plain": [
       "<Figure size 1200x600 with 3 Axes>"
      ],
      "image/png": "[encoded data removed]"
     },
     "metadata": {},
     "output_type": "display_data"
    }
   ],
   "execution_count": 14
  },
  {
   "cell_type": "markdown",
   "metadata": {
    "id": "YVm0gp2H8Um0"
   },
   "source": [
    "Price distributions for villa and apartment prices are approximately normal. Moving on to 'Area' (lot size) feature.\n",
    "\n",
    "Similar data entry issues to the price feature exist. As per \"https://unhabitat.org/sites/default/files/documents/2019-07/tunisia_urban_housing_sector_profile.pdf\"\n",
    "\n",
    "Villa housing is now the fastest growing type of\n",
    "housing in Tunisia. It can be both formal and informal\n",
    "and usually found on fringe and peri-urban locations.\n",
    "Formal villa housing has lot sizes that normally vary\n",
    "from 300 to 900 m², although in peri-urban locations\n",
    "lot sizes can be much bigger.\n",
    "\n",
    "Average apartment lot sizes start off from 25 m²"
   ]
  },
  {
   "cell_type": "code",
   "metadata": {
    "colab": {
     "base_uri": "https://localhost:8080/",
     "height": 357
    },
    "id": "na4IhJWc8V3l",
    "outputId": "2c8c059f-2352-4507-a026-589908433028",
    "ExecuteTime": {
     "end_time": "2024-12-02T11:19:43.659368Z",
     "start_time": "2024-12-02T11:19:43.648006Z"
    }
   },
   "source": [
    "agg.groupby('Type')['area'].describe(percentiles=[0.25,.5,.75,.9,.95]).T"
   ],
   "outputs": [
    {
     "data": {
      "text/plain": [
       "Type    appartement       terrain         villa\n",
       "count        2717.0        1900.0        5406.0\n",
       "mean     733.409275  10448.298947    744.809286\n",
       "std    24962.165494  88601.988317  15093.016786\n",
       "min             0.0           2.0           0.0\n",
       "25%            85.0         370.0         210.0\n",
       "50%           110.0         643.5         300.0\n",
       "75%           140.0       2671.75         450.0\n",
       "90%           172.0       10000.0         600.0\n",
       "95%           206.2       30050.0         957.0\n",
       "max       1266666.0     2500000.0      900000.0"
      ],
      "text/html": [
       "<div>\n",
       "<style scoped>\n",
       "    .dataframe tbody tr th:only-of-type {\n",
       "        vertical-align: middle;\n",
       "    }\n",
       "\n",
       "    .dataframe tbody tr th {\n",
       "        vertical-align: top;\n",
       "    }\n",
       "\n",
       "    .dataframe thead th {\n",
       "        text-align: right;\n",
       "    }\n",
       "</style>\n",
       "<table border=\"1\" class=\"dataframe\">\n",
       "  <thead>\n",
       "    <tr style=\"text-align: right;\">\n",
       "      <th>Type</th>\n",
       "      <th>appartement</th>\n",
       "      <th>terrain</th>\n",
       "      <th>villa</th>\n",
       "    </tr>\n",
       "  </thead>\n",
       "  <tbody>\n",
       "    <tr>\n",
       "      <th>count</th>\n",
       "      <td>2717.0</td>\n",
       "      <td>1900.0</td>\n",
       "      <td>5406.0</td>\n",
       "    </tr>\n",
       "    <tr>\n",
       "      <th>mean</th>\n",
       "      <td>733.409275</td>\n",
       "      <td>10448.298947</td>\n",
       "      <td>744.809286</td>\n",
       "    </tr>\n",
       "    <tr>\n",
       "      <th>std</th>\n",
       "      <td>24962.165494</td>\n",
       "      <td>88601.988317</td>\n",
       "      <td>15093.016786</td>\n",
       "    </tr>\n",
       "    <tr>\n",
       "      <th>min</th>\n",
       "      <td>0.0</td>\n",
       "      <td>2.0</td>\n",
       "      <td>0.0</td>\n",
       "    </tr>\n",
       "    <tr>\n",
       "      <th>25%</th>\n",
       "      <td>85.0</td>\n",
       "      <td>370.0</td>\n",
       "      <td>210.0</td>\n",
       "    </tr>\n",
       "    <tr>\n",
       "      <th>50%</th>\n",
       "      <td>110.0</td>\n",
       "      <td>643.5</td>\n",
       "      <td>300.0</td>\n",
       "    </tr>\n",
       "    <tr>\n",
       "      <th>75%</th>\n",
       "      <td>140.0</td>\n",
       "      <td>2671.75</td>\n",
       "      <td>450.0</td>\n",
       "    </tr>\n",
       "    <tr>\n",
       "      <th>90%</th>\n",
       "      <td>172.0</td>\n",
       "      <td>10000.0</td>\n",
       "      <td>600.0</td>\n",
       "    </tr>\n",
       "    <tr>\n",
       "      <th>95%</th>\n",
       "      <td>206.2</td>\n",
       "      <td>30050.0</td>\n",
       "      <td>957.0</td>\n",
       "    </tr>\n",
       "    <tr>\n",
       "      <th>max</th>\n",
       "      <td>1266666.0</td>\n",
       "      <td>2500000.0</td>\n",
       "      <td>900000.0</td>\n",
       "    </tr>\n",
       "  </tbody>\n",
       "</table>\n",
       "</div>"
      ]
     },
     "execution_count": 15,
     "metadata": {},
     "output_type": "execute_result"
    }
   ],
   "execution_count": 15
  },
  {
   "cell_type": "code",
   "metadata": {
    "id": "NH8V6tVB8W_R",
    "ExecuteTime": {
     "end_time": "2024-12-02T11:19:43.667831Z",
     "start_time": "2024-12-02T11:19:43.660388Z"
    }
   },
   "source": [
    "agg = agg[\n",
    "    ((agg['Type'] == 'appartement') & (agg['area'] >= 30) & (agg['area'] <= 200)) |\n",
    "    ((agg['Type'] == 'villa') & (agg['area'] >= 100)&(agg['area'] <= 1000)) | ((agg['Type'] == 'terrain') & (agg['area'] >= 100)&(agg['area'] <= 800))\n",
    "]"
   ],
   "outputs": [],
   "execution_count": 16
  },
  {
   "cell_type": "code",
   "metadata": {
    "colab": {
     "base_uri": "https://localhost:8080/",
     "height": 357
    },
    "id": "c1ryk7Zz8X86",
    "outputId": "71a51cb7-194b-4b31-ccb8-e534bffe4cb6",
    "ExecuteTime": {
     "end_time": "2024-12-02T11:19:43.680363Z",
     "start_time": "2024-12-02T11:19:43.668849Z"
    }
   },
   "source": [
    "agg.groupby('Type')['area'].describe(percentiles=[0.25,.5,.75,.9,.95]).T"
   ],
   "outputs": [
    {
     "data": {
      "text/plain": [
       "Type   appartement     terrain       villa\n",
       "count       2531.0      1039.0      5121.0\n",
       "mean    110.074279   412.06256  348.140598\n",
       "std      34.933602  159.277514  186.670685\n",
       "min           30.0       100.0       100.0\n",
       "25%           85.0       298.0       215.0\n",
       "50%          108.0       400.0       300.0\n",
       "75%          133.0       511.0       440.0\n",
       "90%          160.0       640.0       562.0\n",
       "95%          172.0       700.0       750.0\n",
       "max          200.0       800.0      1000.0"
      ],
      "text/html": [
       "<div>\n",
       "<style scoped>\n",
       "    .dataframe tbody tr th:only-of-type {\n",
       "        vertical-align: middle;\n",
       "    }\n",
       "\n",
       "    .dataframe tbody tr th {\n",
       "        vertical-align: top;\n",
       "    }\n",
       "\n",
       "    .dataframe thead th {\n",
       "        text-align: right;\n",
       "    }\n",
       "</style>\n",
       "<table border=\"1\" class=\"dataframe\">\n",
       "  <thead>\n",
       "    <tr style=\"text-align: right;\">\n",
       "      <th>Type</th>\n",
       "      <th>appartement</th>\n",
       "      <th>terrain</th>\n",
       "      <th>villa</th>\n",
       "    </tr>\n",
       "  </thead>\n",
       "  <tbody>\n",
       "    <tr>\n",
       "      <th>count</th>\n",
       "      <td>2531.0</td>\n",
       "      <td>1039.0</td>\n",
       "      <td>5121.0</td>\n",
       "    </tr>\n",
       "    <tr>\n",
       "      <th>mean</th>\n",
       "      <td>110.074279</td>\n",
       "      <td>412.06256</td>\n",
       "      <td>348.140598</td>\n",
       "    </tr>\n",
       "    <tr>\n",
       "      <th>std</th>\n",
       "      <td>34.933602</td>\n",
       "      <td>159.277514</td>\n",
       "      <td>186.670685</td>\n",
       "    </tr>\n",
       "    <tr>\n",
       "      <th>min</th>\n",
       "      <td>30.0</td>\n",
       "      <td>100.0</td>\n",
       "      <td>100.0</td>\n",
       "    </tr>\n",
       "    <tr>\n",
       "      <th>25%</th>\n",
       "      <td>85.0</td>\n",
       "      <td>298.0</td>\n",
       "      <td>215.0</td>\n",
       "    </tr>\n",
       "    <tr>\n",
       "      <th>50%</th>\n",
       "      <td>108.0</td>\n",
       "      <td>400.0</td>\n",
       "      <td>300.0</td>\n",
       "    </tr>\n",
       "    <tr>\n",
       "      <th>75%</th>\n",
       "      <td>133.0</td>\n",
       "      <td>511.0</td>\n",
       "      <td>440.0</td>\n",
       "    </tr>\n",
       "    <tr>\n",
       "      <th>90%</th>\n",
       "      <td>160.0</td>\n",
       "      <td>640.0</td>\n",
       "      <td>562.0</td>\n",
       "    </tr>\n",
       "    <tr>\n",
       "      <th>95%</th>\n",
       "      <td>172.0</td>\n",
       "      <td>700.0</td>\n",
       "      <td>750.0</td>\n",
       "    </tr>\n",
       "    <tr>\n",
       "      <th>max</th>\n",
       "      <td>200.0</td>\n",
       "      <td>800.0</td>\n",
       "      <td>1000.0</td>\n",
       "    </tr>\n",
       "  </tbody>\n",
       "</table>\n",
       "</div>"
      ]
     },
     "execution_count": 17,
     "metadata": {},
     "output_type": "execute_result"
    }
   ],
   "execution_count": 17
  },
  {
   "cell_type": "code",
   "metadata": {
    "colab": {
     "base_uri": "https://localhost:8080/",
     "height": 627
    },
    "id": "Vd2LDtiN8Yrk",
    "outputId": "1a214b63-f052-4c8d-d8bc-087fcc002382",
    "ExecuteTime": {
     "end_time": "2024-12-02T11:19:43.897981Z",
     "start_time": "2024-12-02T11:19:43.680363Z"
    }
   },
   "source": [
    "from matplotlib.ticker import FuncFormatter #for number formatting on the graph\n",
    "def y_formatter(x, pos):\n",
    "    if x >= 1000:\n",
    "        return f'{int(x / 1000)}k'\n",
    "    return str(int(x))\n",
    "\n",
    "fig, axes = plt.subplots(1, 3, figsize=(12, 6))\n",
    "agg[agg['Type'] == 'villa'].boxplot(column='area', ax=axes[0],vert=True)\n",
    "agg[agg['Type'] == 'appartement'].boxplot(column='area', ax=axes[1],vert=True)\n",
    "agg[agg['Type'] == 'terrain'].boxplot(column='area', ax=axes[2],vert=True)\n",
    "axes[0].set_title('Villa')\n",
    "axes[1].set_title('Appartement')\n",
    "axes[2].set_title('Terrains')\n",
    "\n",
    "for ax in axes:\n",
    "    ax.yaxis.set_major_formatter(FuncFormatter(y_formatter))\n",
    "plt.tight_layout()\n",
    "plt.show()"
   ],
   "outputs": [
    {
     "data": {
      "text/plain": [
       "<Figure size 1200x600 with 3 Axes>"
      ],
      "image/png": "[encoded data removed]"
     },
     "metadata": {},
     "output_type": "display_data"
    }
   ],
   "execution_count": 18
  },
  {
   "cell_type": "code",
   "metadata": {
    "colab": {
     "base_uri": "https://localhost:8080/",
     "height": 601
    },
    "id": "PzigHHQf8Zj5",
    "outputId": "9b1908b4-8706-4391-bde1-29eeba3c874f",
    "ExecuteTime": {
     "end_time": "2024-12-02T11:19:44.319880Z",
     "start_time": "2024-12-02T11:19:43.899019Z"
    }
   },
   "source": [
    "fig, axes = plt.subplots(1, 3, figsize=(12, 6))\n",
    "sns.kdeplot(agg[agg['Type'] == 'villa']['area'], ax=axes[0])\n",
    "sns.kdeplot(agg[agg['Type'] == 'appartement']['area'], ax=axes[1])\n",
    "sns.kdeplot(agg[agg['Type'] == 'terrain']['area'], ax=axes[2])\n",
    "\n",
    "axes[0].set_title('Villa area distribution')\n",
    "axes[1].set_title('Apartment area distribution')\n",
    "axes[2].set_title('Terrain area distribution')\n"
   ],
   "outputs": [
    {
     "data": {
      "text/plain": [
       "Text(0.5, 1.0, 'Terrain area distribution')"
      ]
     },
     "execution_count": 19,
     "metadata": {},
     "output_type": "execute_result"
    },
    {
     "data": {
      "text/plain": [
       "<Figure size 1200x600 with 3 Axes>"
      ],
      "image/png": "[encoded data removed]"
     },
     "metadata": {},
     "output_type": "display_data"
    }
   ],
   "execution_count": 19
  },
  {
   "cell_type": "markdown",
   "metadata": {
    "id": "YY2kVqeX8adt"
   },
   "source": [
    "The area distribution for villas looks to be right skewed with 95% of the data points falling under 750 m².\n",
    "A transformation may be needed for better representation (or outlier removal later on)"
   ]
  },
  {
   "cell_type": "code",
   "metadata": {
    "colab": {
     "base_uri": "https://localhost:8080/",
     "height": 357
    },
    "id": "1gOFofQa8cZB",
    "outputId": "bb9555bb-1990-4519-e51c-7c5b3324862b",
    "ExecuteTime": {
     "end_time": "2024-12-02T11:19:44.335215Z",
     "start_time": "2024-12-02T11:19:44.321960Z"
    }
   },
   "source": [
    "agg.groupby('Type')['n_bedrooms'].describe(percentiles=[0.25,.5,.75,.9,.95]).T"
   ],
   "outputs": [
    {
     "data": {
      "text/plain": [
       "Type   appartement  terrain     villa\n",
       "count       2531.0   1039.0    5121.0\n",
       "mean      2.450415      0.0  4.010545\n",
       "std       3.514089      0.0  1.578384\n",
       "min            0.0      0.0       0.0\n",
       "25%            2.0      0.0       3.0\n",
       "50%            2.0      0.0       4.0\n",
       "75%            3.0      0.0       4.0\n",
       "90%            3.0      0.0       6.0\n",
       "95%            4.0      0.0       7.0\n",
       "max          152.0      0.0      19.0"
      ],
      "text/html": [
       "<div>\n",
       "<style scoped>\n",
       "    .dataframe tbody tr th:only-of-type {\n",
       "        vertical-align: middle;\n",
       "    }\n",
       "\n",
       "    .dataframe tbody tr th {\n",
       "        vertical-align: top;\n",
       "    }\n",
       "\n",
       "    .dataframe thead th {\n",
       "        text-align: right;\n",
       "    }\n",
       "</style>\n",
       "<table border=\"1\" class=\"dataframe\">\n",
       "  <thead>\n",
       "    <tr style=\"text-align: right;\">\n",
       "      <th>Type</th>\n",
       "      <th>appartement</th>\n",
       "      <th>terrain</th>\n",
       "      <th>villa</th>\n",
       "    </tr>\n",
       "  </thead>\n",
       "  <tbody>\n",
       "    <tr>\n",
       "      <th>count</th>\n",
       "      <td>2531.0</td>\n",
       "      <td>1039.0</td>\n",
       "      <td>5121.0</td>\n",
       "    </tr>\n",
       "    <tr>\n",
       "      <th>mean</th>\n",
       "      <td>2.450415</td>\n",
       "      <td>0.0</td>\n",
       "      <td>4.010545</td>\n",
       "    </tr>\n",
       "    <tr>\n",
       "      <th>std</th>\n",
       "      <td>3.514089</td>\n",
       "      <td>0.0</td>\n",
       "      <td>1.578384</td>\n",
       "    </tr>\n",
       "    <tr>\n",
       "      <th>min</th>\n",
       "      <td>0.0</td>\n",
       "      <td>0.0</td>\n",
       "      <td>0.0</td>\n",
       "    </tr>\n",
       "    <tr>\n",
       "      <th>25%</th>\n",
       "      <td>2.0</td>\n",
       "      <td>0.0</td>\n",
       "      <td>3.0</td>\n",
       "    </tr>\n",
       "    <tr>\n",
       "      <th>50%</th>\n",
       "      <td>2.0</td>\n",
       "      <td>0.0</td>\n",
       "      <td>4.0</td>\n",
       "    </tr>\n",
       "    <tr>\n",
       "      <th>75%</th>\n",
       "      <td>3.0</td>\n",
       "      <td>0.0</td>\n",
       "      <td>4.0</td>\n",
       "    </tr>\n",
       "    <tr>\n",
       "      <th>90%</th>\n",
       "      <td>3.0</td>\n",
       "      <td>0.0</td>\n",
       "      <td>6.0</td>\n",
       "    </tr>\n",
       "    <tr>\n",
       "      <th>95%</th>\n",
       "      <td>4.0</td>\n",
       "      <td>0.0</td>\n",
       "      <td>7.0</td>\n",
       "    </tr>\n",
       "    <tr>\n",
       "      <th>max</th>\n",
       "      <td>152.0</td>\n",
       "      <td>0.0</td>\n",
       "      <td>19.0</td>\n",
       "    </tr>\n",
       "  </tbody>\n",
       "</table>\n",
       "</div>"
      ]
     },
     "execution_count": 20,
     "metadata": {},
     "output_type": "execute_result"
    }
   ],
   "execution_count": 20
  },
  {
   "cell_type": "markdown",
   "metadata": {
    "id": "c-bJtSTe8dk5"
   },
   "source": [
    "We set 1 as a lower bound for number of bedrooms and 4 for appartments / 7 for villas (to avoid severe outliers)"
   ]
  },
  {
   "cell_type": "code",
   "metadata": {
    "id": "PCeqUHh28eb1",
    "ExecuteTime": {
     "end_time": "2024-12-02T11:19:44.347824Z",
     "start_time": "2024-12-02T11:19:44.336210Z"
    }
   },
   "source": [
    "agg = agg[\n",
    "    ((agg['Type'] == 'appartement') & (agg['n_bedrooms'] >= 1) & (agg['n_bedrooms'] <= 4)) |\n",
    "    ((agg['Type'] == 'villa') & (agg['n_bedrooms'] >= 1)&(agg['n_bedrooms'] <= 7)) | (agg['Type'] == 'terrain')\n",
    "]"
   ],
   "outputs": [],
   "execution_count": 21
  },
  {
   "cell_type": "code",
   "metadata": {
    "colab": {
     "base_uri": "https://localhost:8080/",
     "height": 357
    },
    "id": "XJgRCIYf8fGf",
    "outputId": "0ec5a157-b700-4d6b-f0ac-2c89cbd62c3a",
    "ExecuteTime": {
     "end_time": "2024-12-02T11:19:44.358868Z",
     "start_time": "2024-12-02T11:19:44.348349Z"
    }
   },
   "source": [
    "agg.groupby('Type')['n_bathrooms'].describe(percentiles=[0.25,.5,.75,.9,.95]).T\n"
   ],
   "outputs": [
    {
     "data": {
      "text/plain": [
       "Type   appartement  terrain     villa\n",
       "count       2251.0   1039.0    4789.0\n",
       "mean      1.268325      0.0  2.465024\n",
       "std       0.539107      0.0  1.086619\n",
       "min            1.0      0.0       1.0\n",
       "25%            1.0      0.0       2.0\n",
       "50%            1.0      0.0       2.0\n",
       "75%            1.0      0.0       3.0\n",
       "90%            2.0      0.0       4.0\n",
       "95%            2.0      0.0       4.0\n",
       "max           11.0      0.0       6.0"
      ],
      "text/html": [
       "<div>\n",
       "<style scoped>\n",
       "    .dataframe tbody tr th:only-of-type {\n",
       "        vertical-align: middle;\n",
       "    }\n",
       "\n",
       "    .dataframe tbody tr th {\n",
       "        vertical-align: top;\n",
       "    }\n",
       "\n",
       "    .dataframe thead th {\n",
       "        text-align: right;\n",
       "    }\n",
       "</style>\n",
       "<table border=\"1\" class=\"dataframe\">\n",
       "  <thead>\n",
       "    <tr style=\"text-align: right;\">\n",
       "      <th>Type</th>\n",
       "      <th>appartement</th>\n",
       "      <th>terrain</th>\n",
       "      <th>villa</th>\n",
       "    </tr>\n",
       "  </thead>\n",
       "  <tbody>\n",
       "    <tr>\n",
       "      <th>count</th>\n",
       "      <td>2251.0</td>\n",
       "      <td>1039.0</td>\n",
       "      <td>4789.0</td>\n",
       "    </tr>\n",
       "    <tr>\n",
       "      <th>mean</th>\n",
       "      <td>1.268325</td>\n",
       "      <td>0.0</td>\n",
       "      <td>2.465024</td>\n",
       "    </tr>\n",
       "    <tr>\n",
       "      <th>std</th>\n",
       "      <td>0.539107</td>\n",
       "      <td>0.0</td>\n",
       "      <td>1.086619</td>\n",
       "    </tr>\n",
       "    <tr>\n",
       "      <th>min</th>\n",
       "      <td>1.0</td>\n",
       "      <td>0.0</td>\n",
       "      <td>1.0</td>\n",
       "    </tr>\n",
       "    <tr>\n",
       "      <th>25%</th>\n",
       "      <td>1.0</td>\n",
       "      <td>0.0</td>\n",
       "      <td>2.0</td>\n",
       "    </tr>\n",
       "    <tr>\n",
       "      <th>50%</th>\n",
       "      <td>1.0</td>\n",
       "      <td>0.0</td>\n",
       "      <td>2.0</td>\n",
       "    </tr>\n",
       "    <tr>\n",
       "      <th>75%</th>\n",
       "      <td>1.0</td>\n",
       "      <td>0.0</td>\n",
       "      <td>3.0</td>\n",
       "    </tr>\n",
       "    <tr>\n",
       "      <th>90%</th>\n",
       "      <td>2.0</td>\n",
       "      <td>0.0</td>\n",
       "      <td>4.0</td>\n",
       "    </tr>\n",
       "    <tr>\n",
       "      <th>95%</th>\n",
       "      <td>2.0</td>\n",
       "      <td>0.0</td>\n",
       "      <td>4.0</td>\n",
       "    </tr>\n",
       "    <tr>\n",
       "      <th>max</th>\n",
       "      <td>11.0</td>\n",
       "      <td>0.0</td>\n",
       "      <td>6.0</td>\n",
       "    </tr>\n",
       "  </tbody>\n",
       "</table>\n",
       "</div>"
      ]
     },
     "execution_count": 22,
     "metadata": {},
     "output_type": "execute_result"
    }
   ],
   "execution_count": 22
  },
  {
   "cell_type": "code",
   "metadata": {
    "id": "FIt7hwoY8gyB",
    "ExecuteTime": {
     "end_time": "2024-12-02T11:19:44.366083Z",
     "start_time": "2024-12-02T11:19:44.359887Z"
    }
   },
   "source": [
    "agg = agg[\n",
    "    ((agg['Type'] == 'appartement') & (agg['n_bathrooms'] >= 1) & (agg['n_bathrooms'] <= 2)) |\n",
    "    ((agg['Type'] == 'villa') & (agg['n_bathrooms'] >= 1)&(agg['n_bathrooms'] <= 5))| (agg['Type'] == 'terrain')\n",
    "]"
   ],
   "outputs": [],
   "execution_count": 23
  },
  {
   "cell_type": "markdown",
   "metadata": {
    "id": "xu1eRVNyoYo2"
   },
   "source": [
    "According to the following boxplot, outliers exist on the individual state level. We will try to remove outliers."
   ]
  },
  {
   "cell_type": "code",
   "source": [
    "agg['state'] = agg['state'].apply(lambda x : 'nabeul' if 'hammamet' in x else x)"
   ],
   "metadata": {
    "id": "SATb7v0M8rc3",
    "ExecuteTime": {
     "end_time": "2024-12-02T11:19:44.371918Z",
     "start_time": "2024-12-02T11:19:44.367080Z"
    }
   },
   "outputs": [],
   "execution_count": 24
  },
  {
   "cell_type": "code",
   "source": [
    "THRESHOLD = 25\n",
    "#TODO: TRY UNDERSAMPLING NABEUL\n",
    "agg = agg[agg['Type'] != 'terrain']\n",
    "\n",
    "top_20_states = agg['state'].value_counts().nlargest(20).index\n",
    "filtered_df = agg[agg['state'].isin(top_20_states)]\n"
   ],
   "metadata": {
    "id": "nOT892rjz151",
    "ExecuteTime": {
     "end_time": "2024-12-02T11:19:44.386707Z",
     "start_time": "2024-12-02T11:19:44.372902Z"
    }
   },
   "outputs": [],
   "execution_count": 25
  },
  {
   "cell_type": "code",
   "source": [
    "def process_categorical_column(df, category_column, group_columns='Type',threshold=20,escape=None):\n",
    "    df = df.copy()\n",
    "    def process_group(group):\n",
    "        category_counts = group[category_column].value_counts()\n",
    "        category_mapping = {}\n",
    "        for category, count in category_counts.items():\n",
    "            if count > threshold:\n",
    "                category_mapping[category] = category\n",
    "            else:\n",
    "\n",
    "                category_mapping[category] = escape\n",
    "\n",
    "\n",
    "        processed_group = group[group[category_column].map(category_mapping).notnull()]\n",
    "        processed_group[category_column] = processed_group[category_column].map(category_mapping)\n",
    "\n",
    "        return processed_group\n",
    "\n",
    "    result = df.groupby(group_columns).apply(process_group).reset_index(drop=True)\n",
    "\n",
    "    return result\n",
    "\n",
    "result_state = process_categorical_column(filtered_df, 'state', threshold=THRESHOLD, escape=None)\n",
    "filtered_df = process_categorical_column(result_state, 'city', group_columns=['Type','state'], threshold=THRESHOLD)   #TODO: EXPERIMENT WITH DIS SHIET\n",
    "\n",
    "#TODO: GROUP SIMILAR STATES TOGETHER\n",
    "\n",
    "\n",
    "\n"
   ],
   "metadata": {
    "id": "cNNgevGD9zKG",
    "ExecuteTime": {
     "end_time": "2024-12-02T11:19:44.869194Z",
     "start_time": "2024-12-02T11:19:44.817875Z"
    }
   },
   "outputs": [],
   "execution_count": 26
  },
  {
   "metadata": {
    "ExecuteTime": {
     "end_time": "2024-12-02T11:19:46.564455Z",
     "start_time": "2024-12-02T11:19:46.553507Z"
    }
   },
   "cell_type": "code",
   "source": "filtered_df[['state','city']].drop_duplicates()",
   "outputs": [
    {
     "data": {
      "text/plain": [
       "          state             city\n",
       "0        ariana     ariana ville\n",
       "1        ariana        la soukra\n",
       "2        ariana           ennasr\n",
       "3        ariana           menzah\n",
       "225   ben arous            rades\n",
       "228   ben arous       el mourouj\n",
       "235   ben arous    medina jedida\n",
       "328      mahdia           mahdia\n",
       "390      nabeul           nabeul\n",
       "392      nabeul          kelibia\n",
       "395      nabeul         hammamet\n",
       "404      nabeul    hammamet nord\n",
       "410      nabeul           mrezga\n",
       "419      nabeul  hammamet centre\n",
       "431      nabeul     hammamet sud\n",
       "1256     sousse           akouda\n",
       "1257     sousse         kantaoui\n",
       "1258     sousse          sahloul\n",
       "1260     sousse   sousse jawhara\n",
       "1263     sousse    sousse medina\n",
       "1264     sousse    hammam sousse\n",
       "1604      tunis         le bardo\n",
       "1605      tunis     aïn zaghouan\n",
       "1606      tunis         la marsa\n",
       "1607      tunis         l'aouina\n",
       "1796     ariana           raoued\n",
       "2038    bizerte     bizerte nord\n",
       "2064   medenine           djerba\n",
       "2159     nabeul      el haouaria\n",
       "2188     nabeul       beni khiar\n",
       "2270     nabeul            korba"
      ],
      "text/html": [
       "<div>\n",
       "<style scoped>\n",
       "    .dataframe tbody tr th:only-of-type {\n",
       "        vertical-align: middle;\n",
       "    }\n",
       "\n",
       "    .dataframe tbody tr th {\n",
       "        vertical-align: top;\n",
       "    }\n",
       "\n",
       "    .dataframe thead th {\n",
       "        text-align: right;\n",
       "    }\n",
       "</style>\n",
       "<table border=\"1\" class=\"dataframe\">\n",
       "  <thead>\n",
       "    <tr style=\"text-align: right;\">\n",
       "      <th></th>\n",
       "      <th>state</th>\n",
       "      <th>city</th>\n",
       "    </tr>\n",
       "  </thead>\n",
       "  <tbody>\n",
       "    <tr>\n",
       "      <th>0</th>\n",
       "      <td>ariana</td>\n",
       "      <td>ariana ville</td>\n",
       "    </tr>\n",
       "    <tr>\n",
       "      <th>1</th>\n",
       "      <td>ariana</td>\n",
       "      <td>la soukra</td>\n",
       "    </tr>\n",
       "    <tr>\n",
       "      <th>2</th>\n",
       "      <td>ariana</td>\n",
       "      <td>ennasr</td>\n",
       "    </tr>\n",
       "    <tr>\n",
       "      <th>3</th>\n",
       "      <td>ariana</td>\n",
       "      <td>menzah</td>\n",
       "    </tr>\n",
       "    <tr>\n",
       "      <th>225</th>\n",
       "      <td>ben arous</td>\n",
       "      <td>rades</td>\n",
       "    </tr>\n",
       "    <tr>\n",
       "      <th>228</th>\n",
       "      <td>ben arous</td>\n",
       "      <td>el mourouj</td>\n",
       "    </tr>\n",
       "    <tr>\n",
       "      <th>235</th>\n",
       "      <td>ben arous</td>\n",
       "      <td>medina jedida</td>\n",
       "    </tr>\n",
       "    <tr>\n",
       "      <th>328</th>\n",
       "      <td>mahdia</td>\n",
       "      <td>mahdia</td>\n",
       "    </tr>\n",
       "    <tr>\n",
       "      <th>390</th>\n",
       "      <td>nabeul</td>\n",
       "      <td>nabeul</td>\n",
       "    </tr>\n",
       "    <tr>\n",
       "      <th>392</th>\n",
       "      <td>nabeul</td>\n",
       "      <td>kelibia</td>\n",
       "    </tr>\n",
       "    <tr>\n",
       "      <th>395</th>\n",
       "      <td>nabeul</td>\n",
       "      <td>hammamet</td>\n",
       "    </tr>\n",
       "    <tr>\n",
       "      <th>404</th>\n",
       "      <td>nabeul</td>\n",
       "      <td>hammamet nord</td>\n",
       "    </tr>\n",
       "    <tr>\n",
       "      <th>410</th>\n",
       "      <td>nabeul</td>\n",
       "      <td>mrezga</td>\n",
       "    </tr>\n",
       "    <tr>\n",
       "      <th>419</th>\n",
       "      <td>nabeul</td>\n",
       "      <td>hammamet centre</td>\n",
       "    </tr>\n",
       "    <tr>\n",
       "      <th>431</th>\n",
       "      <td>nabeul</td>\n",
       "      <td>hammamet sud</td>\n",
       "    </tr>\n",
       "    <tr>\n",
       "      <th>1256</th>\n",
       "      <td>sousse</td>\n",
       "      <td>akouda</td>\n",
       "    </tr>\n",
       "    <tr>\n",
       "      <th>1257</th>\n",
       "      <td>sousse</td>\n",
       "      <td>kantaoui</td>\n",
       "    </tr>\n",
       "    <tr>\n",
       "      <th>1258</th>\n",
       "      <td>sousse</td>\n",
       "      <td>sahloul</td>\n",
       "    </tr>\n",
       "    <tr>\n",
       "      <th>1260</th>\n",
       "      <td>sousse</td>\n",
       "      <td>sousse jawhara</td>\n",
       "    </tr>\n",
       "    <tr>\n",
       "      <th>1263</th>\n",
       "      <td>sousse</td>\n",
       "      <td>sousse medina</td>\n",
       "    </tr>\n",
       "    <tr>\n",
       "      <th>1264</th>\n",
       "      <td>sousse</td>\n",
       "      <td>hammam sousse</td>\n",
       "    </tr>\n",
       "    <tr>\n",
       "      <th>1604</th>\n",
       "      <td>tunis</td>\n",
       "      <td>le bardo</td>\n",
       "    </tr>\n",
       "    <tr>\n",
       "      <th>1605</th>\n",
       "      <td>tunis</td>\n",
       "      <td>aïn zaghouan</td>\n",
       "    </tr>\n",
       "    <tr>\n",
       "      <th>1606</th>\n",
       "      <td>tunis</td>\n",
       "      <td>la marsa</td>\n",
       "    </tr>\n",
       "    <tr>\n",
       "      <th>1607</th>\n",
       "      <td>tunis</td>\n",
       "      <td>l'aouina</td>\n",
       "    </tr>\n",
       "    <tr>\n",
       "      <th>1796</th>\n",
       "      <td>ariana</td>\n",
       "      <td>raoued</td>\n",
       "    </tr>\n",
       "    <tr>\n",
       "      <th>2038</th>\n",
       "      <td>bizerte</td>\n",
       "      <td>bizerte nord</td>\n",
       "    </tr>\n",
       "    <tr>\n",
       "      <th>2064</th>\n",
       "      <td>medenine</td>\n",
       "      <td>djerba</td>\n",
       "    </tr>\n",
       "    <tr>\n",
       "      <th>2159</th>\n",
       "      <td>nabeul</td>\n",
       "      <td>el haouaria</td>\n",
       "    </tr>\n",
       "    <tr>\n",
       "      <th>2188</th>\n",
       "      <td>nabeul</td>\n",
       "      <td>beni khiar</td>\n",
       "    </tr>\n",
       "    <tr>\n",
       "      <th>2270</th>\n",
       "      <td>nabeul</td>\n",
       "      <td>korba</td>\n",
       "    </tr>\n",
       "  </tbody>\n",
       "</table>\n",
       "</div>"
      ]
     },
     "execution_count": 27,
     "metadata": {},
     "output_type": "execute_result"
    }
   ],
   "execution_count": 27
  },
  {
   "cell_type": "code",
   "source": [
    "#make splits now to avoid data leakage\n",
    "train_set, test_set = train_test_split(filtered_df, test_size=0.2, random_state=42)"
   ],
   "metadata": {
    "id": "Td196m49aSrX",
    "ExecuteTime": {
     "end_time": "2024-12-02T11:19:47.919485Z",
     "start_time": "2024-12-02T11:19:47.909283Z"
    }
   },
   "outputs": [],
   "execution_count": 28
  },
  {
   "cell_type": "code",
   "source": [
    "\n",
    "plt.figure(figsize=(12, 6))\n",
    "sns.boxplot(x=train_set['state'], y=train_set['price'],showmeans=True,hue = train_set['Type'])\n",
    "plt.xticks(rotation=45, ha='right')\n",
    "plt.title('Mean House price by State')\n",
    "plt.ylabel('area')\n",
    "plt.xlabel('State')\n",
    "plt.tight_layout()\n",
    "plt.show()\n",
    "\n",
    "#TODO: REMOVE OUTLIERS RIGHT AFTER CATEGORICAL\n"
   ],
   "metadata": {
    "colab": {
     "base_uri": "https://localhost:8080/",
     "height": 621
    },
    "id": "mLnrm48Eby8j",
    "outputId": "b123ae39-03ad-4479-e9d7-ffedefe5082d",
    "ExecuteTime": {
     "end_time": "2024-12-02T11:19:49.316851Z",
     "start_time": "2024-12-02T11:19:49.110716Z"
    }
   },
   "outputs": [
    {
     "data": {
      "text/plain": [
       "<Figure size 1200x600 with 1 Axes>"
      ],
      "image/png": "[encoded data removed]"
     },
     "metadata": {},
     "output_type": "display_data"
    }
   ],
   "execution_count": 29
  },
  {
   "cell_type": "code",
   "source": [
    "\n",
    "pd.DataFrame(train_set.groupby(['state','Type'])['city'].value_counts())"
   ],
   "metadata": {
    "colab": {
     "base_uri": "https://localhost:8080/",
     "height": 1000
    },
    "id": "wQoXPeoyaEIg",
    "outputId": "1ec51c1a-d4cd-4321-88f1-f858f2322ab2",
    "ExecuteTime": {
     "end_time": "2024-12-02T11:19:55.346009Z",
     "start_time": "2024-12-02T11:19:55.329244Z"
    }
   },
   "outputs": [
    {
     "data": {
      "text/plain": [
       "                                       count\n",
       "state     Type        city                  \n",
       "ariana    appartement ennasr              72\n",
       "                      la soukra           58\n",
       "                      menzah              23\n",
       "                      ariana ville        20\n",
       "          villa       raoued              51\n",
       "                      la soukra           46\n",
       "                      ariana ville        21\n",
       "ben arous appartement medina jedida       28\n",
       "                      el mourouj          26\n",
       "                      rades               22\n",
       "          villa       el mourouj          35\n",
       "                      medina jedida       26\n",
       "                      rades               26\n",
       "bizerte   villa       bizerte nord        24\n",
       "mahdia    appartement mahdia              50\n",
       "medenine  villa       djerba              74\n",
       "nabeul    appartement hammamet           261\n",
       "                      mrezga             139\n",
       "                      kelibia             95\n",
       "                      hammamet nord       65\n",
       "                      hammamet sud        57\n",
       "                      nabeul              36\n",
       "                      hammamet centre     28\n",
       "          villa       hammamet sud       934\n",
       "                      hammamet           897\n",
       "                      kelibia            247\n",
       "                      hammamet nord      234\n",
       "                      el haouaria         87\n",
       "                      mrezga              68\n",
       "                      beni khiar          65\n",
       "                      nabeul              58\n",
       "                      korba               26\n",
       "sousse    appartement sahloul             73\n",
       "                      sousse jawhara      57\n",
       "                      sousse medina       43\n",
       "                      kantaoui            40\n",
       "                      hammam sousse       38\n",
       "                      akouda              27\n",
       "          villa       sousse jawhara      50\n",
       "                      hammam sousse       38\n",
       "                      sahloul             30\n",
       "                      akouda              24\n",
       "tunis     appartement l'aouina            57\n",
       "                      la marsa            38\n",
       "                      aïn zaghouan        34\n",
       "                      le bardo            24\n",
       "          villa       le bardo            35\n",
       "                      la marsa            34"
      ],
      "text/html": [
       "<div>\n",
       "<style scoped>\n",
       "    .dataframe tbody tr th:only-of-type {\n",
       "        vertical-align: middle;\n",
       "    }\n",
       "\n",
       "    .dataframe tbody tr th {\n",
       "        vertical-align: top;\n",
       "    }\n",
       "\n",
       "    .dataframe thead th {\n",
       "        text-align: right;\n",
       "    }\n",
       "</style>\n",
       "<table border=\"1\" class=\"dataframe\">\n",
       "  <thead>\n",
       "    <tr style=\"text-align: right;\">\n",
       "      <th></th>\n",
       "      <th></th>\n",
       "      <th></th>\n",
       "      <th>count</th>\n",
       "    </tr>\n",
       "    <tr>\n",
       "      <th>state</th>\n",
       "      <th>Type</th>\n",
       "      <th>city</th>\n",
       "      <th></th>\n",
       "    </tr>\n",
       "  </thead>\n",
       "  <tbody>\n",
       "    <tr>\n",
       "      <th rowspan=\"7\" valign=\"top\">ariana</th>\n",
       "      <th rowspan=\"4\" valign=\"top\">appartement</th>\n",
       "      <th>ennasr</th>\n",
       "      <td>72</td>\n",
       "    </tr>\n",
       "    <tr>\n",
       "      <th>la soukra</th>\n",
       "      <td>58</td>\n",
       "    </tr>\n",
       "    <tr>\n",
       "      <th>menzah</th>\n",
       "      <td>23</td>\n",
       "    </tr>\n",
       "    <tr>\n",
       "      <th>ariana ville</th>\n",
       "      <td>20</td>\n",
       "    </tr>\n",
       "    <tr>\n",
       "      <th rowspan=\"3\" valign=\"top\">villa</th>\n",
       "      <th>raoued</th>\n",
       "      <td>51</td>\n",
       "    </tr>\n",
       "    <tr>\n",
       "      <th>la soukra</th>\n",
       "      <td>46</td>\n",
       "    </tr>\n",
       "    <tr>\n",
       "      <th>ariana ville</th>\n",
       "      <td>21</td>\n",
       "    </tr>\n",
       "    <tr>\n",
       "      <th rowspan=\"6\" valign=\"top\">ben arous</th>\n",
       "      <th rowspan=\"3\" valign=\"top\">appartement</th>\n",
       "      <th>medina jedida</th>\n",
       "      <td>28</td>\n",
       "    </tr>\n",
       "    <tr>\n",
       "      <th>el mourouj</th>\n",
       "      <td>26</td>\n",
       "    </tr>\n",
       "    <tr>\n",
       "      <th>rades</th>\n",
       "      <td>22</td>\n",
       "    </tr>\n",
       "    <tr>\n",
       "      <th rowspan=\"3\" valign=\"top\">villa</th>\n",
       "      <th>el mourouj</th>\n",
       "      <td>35</td>\n",
       "    </tr>\n",
       "    <tr>\n",
       "      <th>medina jedida</th>\n",
       "      <td>26</td>\n",
       "    </tr>\n",
       "    <tr>\n",
       "      <th>rades</th>\n",
       "      <td>26</td>\n",
       "    </tr>\n",
       "    <tr>\n",
       "      <th>bizerte</th>\n",
       "      <th>villa</th>\n",
       "      <th>bizerte nord</th>\n",
       "      <td>24</td>\n",
       "    </tr>\n",
       "    <tr>\n",
       "      <th>mahdia</th>\n",
       "      <th>appartement</th>\n",
       "      <th>mahdia</th>\n",
       "      <td>50</td>\n",
       "    </tr>\n",
       "    <tr>\n",
       "      <th>medenine</th>\n",
       "      <th>villa</th>\n",
       "      <th>djerba</th>\n",
       "      <td>74</td>\n",
       "    </tr>\n",
       "    <tr>\n",
       "      <th rowspan=\"16\" valign=\"top\">nabeul</th>\n",
       "      <th rowspan=\"7\" valign=\"top\">appartement</th>\n",
       "      <th>hammamet</th>\n",
       "      <td>261</td>\n",
       "    </tr>\n",
       "    <tr>\n",
       "      <th>mrezga</th>\n",
       "      <td>139</td>\n",
       "    </tr>\n",
       "    <tr>\n",
       "      <th>kelibia</th>\n",
       "      <td>95</td>\n",
       "    </tr>\n",
       "    <tr>\n",
       "      <th>hammamet nord</th>\n",
       "      <td>65</td>\n",
       "    </tr>\n",
       "    <tr>\n",
       "      <th>hammamet sud</th>\n",
       "      <td>57</td>\n",
       "    </tr>\n",
       "    <tr>\n",
       "      <th>nabeul</th>\n",
       "      <td>36</td>\n",
       "    </tr>\n",
       "    <tr>\n",
       "      <th>hammamet centre</th>\n",
       "      <td>28</td>\n",
       "    </tr>\n",
       "    <tr>\n",
       "      <th rowspan=\"9\" valign=\"top\">villa</th>\n",
       "      <th>hammamet sud</th>\n",
       "      <td>934</td>\n",
       "    </tr>\n",
       "    <tr>\n",
       "      <th>hammamet</th>\n",
       "      <td>897</td>\n",
       "    </tr>\n",
       "    <tr>\n",
       "      <th>kelibia</th>\n",
       "      <td>247</td>\n",
       "    </tr>\n",
       "    <tr>\n",
       "      <th>hammamet nord</th>\n",
       "      <td>234</td>\n",
       "    </tr>\n",
       "    <tr>\n",
       "      <th>el haouaria</th>\n",
       "      <td>87</td>\n",
       "    </tr>\n",
       "    <tr>\n",
       "      <th>mrezga</th>\n",
       "      <td>68</td>\n",
       "    </tr>\n",
       "    <tr>\n",
       "      <th>beni khiar</th>\n",
       "      <td>65</td>\n",
       "    </tr>\n",
       "    <tr>\n",
       "      <th>nabeul</th>\n",
       "      <td>58</td>\n",
       "    </tr>\n",
       "    <tr>\n",
       "      <th>korba</th>\n",
       "      <td>26</td>\n",
       "    </tr>\n",
       "    <tr>\n",
       "      <th rowspan=\"10\" valign=\"top\">sousse</th>\n",
       "      <th rowspan=\"6\" valign=\"top\">appartement</th>\n",
       "      <th>sahloul</th>\n",
       "      <td>73</td>\n",
       "    </tr>\n",
       "    <tr>\n",
       "      <th>sousse jawhara</th>\n",
       "      <td>57</td>\n",
       "    </tr>\n",
       "    <tr>\n",
       "      <th>sousse medina</th>\n",
       "      <td>43</td>\n",
       "    </tr>\n",
       "    <tr>\n",
       "      <th>kantaoui</th>\n",
       "      <td>40</td>\n",
       "    </tr>\n",
       "    <tr>\n",
       "      <th>hammam sousse</th>\n",
       "      <td>38</td>\n",
       "    </tr>\n",
       "    <tr>\n",
       "      <th>akouda</th>\n",
       "      <td>27</td>\n",
       "    </tr>\n",
       "    <tr>\n",
       "      <th rowspan=\"4\" valign=\"top\">villa</th>\n",
       "      <th>sousse jawhara</th>\n",
       "      <td>50</td>\n",
       "    </tr>\n",
       "    <tr>\n",
       "      <th>hammam sousse</th>\n",
       "      <td>38</td>\n",
       "    </tr>\n",
       "    <tr>\n",
       "      <th>sahloul</th>\n",
       "      <td>30</td>\n",
       "    </tr>\n",
       "    <tr>\n",
       "      <th>akouda</th>\n",
       "      <td>24</td>\n",
       "    </tr>\n",
       "    <tr>\n",
       "      <th rowspan=\"6\" valign=\"top\">tunis</th>\n",
       "      <th rowspan=\"4\" valign=\"top\">appartement</th>\n",
       "      <th>l'aouina</th>\n",
       "      <td>57</td>\n",
       "    </tr>\n",
       "    <tr>\n",
       "      <th>la marsa</th>\n",
       "      <td>38</td>\n",
       "    </tr>\n",
       "    <tr>\n",
       "      <th>aïn zaghouan</th>\n",
       "      <td>34</td>\n",
       "    </tr>\n",
       "    <tr>\n",
       "      <th>le bardo</th>\n",
       "      <td>24</td>\n",
       "    </tr>\n",
       "    <tr>\n",
       "      <th rowspan=\"2\" valign=\"top\">villa</th>\n",
       "      <th>le bardo</th>\n",
       "      <td>35</td>\n",
       "    </tr>\n",
       "    <tr>\n",
       "      <th>la marsa</th>\n",
       "      <td>34</td>\n",
       "    </tr>\n",
       "  </tbody>\n",
       "</table>\n",
       "</div>"
      ]
     },
     "execution_count": 30,
     "metadata": {},
     "output_type": "execute_result"
    }
   ],
   "execution_count": 30
  },
  {
   "cell_type": "code",
   "source": [
    "import pandas as pd\n",
    "\n",
    "\n",
    "def remove_outliers(df, target_column, group_by, threshold=1.5): #TODO: threshold to be tweaked\n",
    "    def detect_outliers(group):\n",
    "        median = group[target_column].median()\n",
    "        q1 = group[target_column].quantile(0.25)\n",
    "        q3 = group[target_column].quantile(0.75)\n",
    "        iqr = q3 - q1\n",
    "        outliers = (group[target_column] < (median - threshold * iqr)) | (group[target_column] > (median + threshold * iqr))\n",
    "        return outliers\n",
    "    outlier_mask = df.groupby(group_by).apply(detect_outliers)\n",
    "    outlier_mask = outlier_mask.reset_index(level=group_by, drop=True)\n",
    "    num_outliers = outlier_mask.sum()\n",
    "    print(f\"Found {num_outliers} outliers in the '{target_column}' column.\")\n",
    "\n",
    "    return df[~outlier_mask]\n",
    "\n",
    "train_set_outliers = remove_outliers(train_set, 'price', group_by=['state', 'Type'])\n",
    "HAXOR = remove_outliers(train_set, 'price', group_by=['Type','state','city'])\n",
    "\n",
    "HAXOR['state_city'] = HAXOR['state'] + '_' + HAXOR['city']"
   ],
   "metadata": {
    "colab": {
     "base_uri": "https://localhost:8080/"
    },
    "id": "jE-w1dqoteI5",
    "outputId": "23e0d0e1-266a-4dd5-9201-ce2187d3e537",
    "ExecuteTime": {
     "end_time": "2024-12-02T11:19:56.144308Z",
     "start_time": "2024-12-02T11:19:56.085423Z"
    }
   },
   "outputs": [
    {
     "name": "stdout",
     "output_type": "stream",
     "text": [
      "Found 192 outliers in the 'price' column.\n",
      "Found 349 outliers in the 'price' column.\n"
     ]
    }
   ],
   "execution_count": 31
  },
  {
   "cell_type": "code",
   "source": [
    "def prepare_test_set(train_df, test_df, group_column, category_column, threshold=15,escape=None):\n",
    "    test_df = test_df.copy()\n",
    "    def apply_mapping(test_df, category_mapping, category_column):\n",
    "        processed_test_df = test_df.copy()\n",
    "        processed_test_df[category_column] = processed_test_df[category_column].map(\n",
    "            lambda x: category_mapping.get(x, x)\n",
    "        )\n",
    "\n",
    "        return processed_test_df\n",
    "\n",
    "    def get_category_mapping(train_df, category_column, threshold,escape=None):\n",
    "\n",
    "        category_counts = train_df[category_column].value_counts()\n",
    "        category_mapping = {}\n",
    "        for category, count in category_counts.items():\n",
    "            if count > threshold:\n",
    "                category_mapping[category] = category\n",
    "            else:\n",
    "\n",
    "                category_mapping[category] = escape\n",
    "\n",
    "        return category_mapping\n",
    "\n",
    "\n",
    "\n",
    "    category_mapping = get_category_mapping(train_df, category_column,threshold)\n",
    "    processed_test_df = apply_mapping(test_df, category_mapping, category_column)\n",
    "\n",
    "    return processed_test_df\n",
    "\n",
    "\n",
    "test_set = prepare_test_set(HAXOR, test_set, 'Type', 'state',threshold=THRESHOLD,escape=None)\n",
    "test_set = prepare_test_set(HAXOR, test_set, 'Type', 'city',threshold=THRESHOLD,escape=None)\n",
    "test_set['state_city'] = test_set['state'] + '_' + test_set['city']"
   ],
   "metadata": {
    "id": "EtUN8xfpKMPv",
    "ExecuteTime": {
     "end_time": "2024-12-02T11:19:56.997108Z",
     "start_time": "2024-12-02T11:19:56.989810Z"
    }
   },
   "outputs": [],
   "execution_count": 32
  },
  {
   "cell_type": "code",
   "source": [
    "import category_encoders as ce\n",
    "from sklearn.preprocessing import LabelEncoder\n",
    "\n",
    "def prepare_encoders(train_df,columns = 'state_city'):\n",
    "    target_encoder = ce.TargetEncoder(cols=columns, smoothing=0.1)\n",
    "    type_encoder = LabelEncoder()\n",
    "    def fit_target_encoder(group):\n",
    "        nonlocal target_encoder\n",
    "        target_encoder.fit(group[columns], group['price'])\n",
    "        return group\n",
    "    type_encoder.fit(train_df['Type'])\n",
    "    train_df.groupby('Type').apply(fit_target_encoder)\n",
    "\n",
    "    return target_encoder, type_encoder\n",
    "\n",
    "def encode_dataframe(df, target_encoder, type_encoder, encode_type=True):\n",
    "    encoded_df = df.copy()\n",
    "    if encode_type:\n",
    "        encoded_df['Type_encoded'] = type_encoder.transform(encoded_df['Type'])\n",
    "    def encode_group(group):\n",
    "\n",
    "        encoded_group = target_encoder.transform(group['state_city'])\n",
    "        group['state_city_encoded'] = encoded_group['state_city']\n",
    "        #group['state_encoded'] = encoded_group['state']\n",
    "        #group['city_encoded'] = encoded_group['city']\n",
    "        return group\n",
    "    encoded_df = encoded_df.groupby('Type').apply(encode_group).reset_index(drop=True)\n",
    "\n",
    "    return encoded_df\n",
    "\n",
    "target_encoder, type_encoder = prepare_encoders(HAXOR)\n",
    "train_df_encoded = encode_dataframe(HAXOR, target_encoder, type_encoder)\n",
    "test_df_encoded = encode_dataframe(test_set, target_encoder, type_encoder)"
   ],
   "metadata": {
    "id": "ejvXQSFRPpis",
    "ExecuteTime": {
     "end_time": "2024-12-02T11:19:57.537328Z",
     "start_time": "2024-12-02T11:19:57.361651Z"
    }
   },
   "outputs": [],
   "execution_count": 33
  },
  {
   "cell_type": "code",
   "source": [
    "# from imblearn.over_sampling import ADASYN\n",
    "# from imblearn.combine import SMOTETomek\n",
    "# \n",
    "# \n",
    "# def prepare_resampling(x, y, method='smotetomek'):\n",
    "#     class_counts = y.value_counts().to_dict()\n",
    "#     print(class_counts)\n",
    "#     majority_class_count = max(class_counts.values())\n",
    "#     print(list(enumerate(class_counts)))\n",
    "#     sampling_strategy = {\n",
    "#         count: min(majority_class_count, class_counts[count] + int(0.01 * (majority_class_count - class_counts[count])) )\n",
    "#                 for cls, count in enumerate(class_counts)\n",
    "#     }\n",
    "#     print(sampling_strategy)\n",
    "# \n",
    "#     if method == 'adasyn':\n",
    "#         resampler = ADASYN(random_state=130,sampling_strategy=sampling_strategy)\n",
    "#     elif method == 'smotetomek':\n",
    "#         resampler = SMOTETomek(random_state=130)\n",
    "#     X_resampled, y_resampled = resampler.fit_resample(x, y)\n",
    "#     X_resampled = pd.DataFrame(X_resampled, columns=x.columns)\n",
    "#     y_resampled = pd.Series(y_resampled, name=y.name)\n",
    "# \n",
    "#     return X_resampled, y_resampled\n",
    "# def prepare_data(df, target_column, resample_method='smotetomek'):\n",
    "#     x = df[['n_bedrooms','n_bathrooms','area','price','Type_encoded','state_city_encoded']]\n",
    "#     y = df[target_column]\n",
    "# \n",
    "#     X_train_resampled, y_train_resampled = prepare_resampling(\n",
    "#         x, y, method=resample_method\n",
    "#     )\n",
    "# \n",
    "#     return pd.concat([X_train_resampled,y_train_resampled],axis=1)\n",
    "# \n",
    "# \n",
    "# train_set_resampled = prepare_data(\n",
    "#      df=train_df_encoded,\n",
    "#      target_column='state_city',\n",
    "#      resample_method='smotetomek'\n",
    "#  )\n"
   ],
   "metadata": {
    "colab": {
     "base_uri": "https://localhost:8080/"
    },
    "id": "kHkNUWvVSff2",
    "outputId": "10e94704-ac63-4cbd-c20d-ee01f763cb68",
    "ExecuteTime": {
     "end_time": "2024-12-02T11:19:57.787102Z",
     "start_time": "2024-12-02T11:19:57.783258Z"
    }
   },
   "outputs": [],
   "execution_count": 34
  },
  {
   "metadata": {
    "ExecuteTime": {
     "end_time": "2024-12-02T11:29:10.545448Z",
     "start_time": "2024-12-02T11:27:48.487202Z"
    }
   },
   "cell_type": "code",
   "source": "!pip install scikit-learn==0.23.2 --force-reinstall",
   "outputs": [
    {
     "name": "stdout",
     "output_type": "stream",
     "text": [
      "Collecting scikit-learn==0.23.2\n",
      "  Downloading scikit-learn-0.23.2.tar.gz (7.2 MB)\n",
      "     ---------------------------------------- 0.0/7.2 MB ? eta -:--:--\n",
      "     - -------------------------------------- 0.3/7.2 MB ? eta -:--:--\n",
      "     ---- ----------------------------------- 0.8/7.2 MB 2.1 MB/s eta 0:00:04\n",
      "     ------- -------------------------------- 1.3/7.2 MB 2.2 MB/s eta 0:00:03\n",
      "     ---------- ----------------------------- 1.8/7.2 MB 2.1 MB/s eta 0:00:03\n",
      "     ----------- ---------------------------- 2.1/7.2 MB 2.2 MB/s eta 0:00:03\n",
      "     -------------- ------------------------- 2.6/7.2 MB 2.2 MB/s eta 0:00:03\n",
      "     ----------------- ---------------------- 3.1/7.2 MB 2.2 MB/s eta 0:00:02\n",
      "     -------------------- ------------------- 3.7/7.2 MB 2.2 MB/s eta 0:00:02\n",
      "     --------------------- ------------------ 3.9/7.2 MB 2.2 MB/s eta 0:00:02\n",
      "     ------------------------ --------------- 4.5/7.2 MB 2.2 MB/s eta 0:00:02\n",
      "     --------------------------- ------------ 5.0/7.2 MB 2.2 MB/s eta 0:00:02\n",
      "     ----------------------------- ---------- 5.2/7.2 MB 2.1 MB/s eta 0:00:01\n",
      "     -------------------------------- ------- 5.8/7.2 MB 2.1 MB/s eta 0:00:01\n",
      "     ----------------------------------- ---- 6.3/7.2 MB 2.1 MB/s eta 0:00:01\n",
      "     -------------------------------------- - 6.8/7.2 MB 2.1 MB/s eta 0:00:01\n",
      "     ---------------------------------------- 7.2/7.2 MB 2.1 MB/s eta 0:00:00\n",
      "  Installing build dependencies: started\n",
      "  Installing build dependencies: still running...\n",
      "  Installing build dependencies: finished with status 'error'\n"
     ]
    },
    {
     "name": "stderr",
     "output_type": "stream",
     "text": [
      "  error: subprocess-exited-with-error\n",
      "  \n",
      "  pip subprocess to install build dependencies did not run successfully.\n",
      "  exit code: 1\n",
      "  \n",
      "  [217 lines of output]\n",
      "  Ignoring numpy: markers 'python_version == \"3.6\" and platform_system != \"AIX\" and platform_python_implementation == \"CPython\"' don't match your environment\n",
      "  Ignoring numpy: markers 'python_version == \"3.6\" and platform_system != \"AIX\" and platform_python_implementation != \"CPython\"' don't match your environment\n",
      "  Ignoring numpy: markers 'python_version == \"3.7\" and platform_system != \"AIX\"' don't match your environment\n",
      "  Ignoring numpy: markers 'python_version == \"3.6\" and platform_system == \"AIX\"' don't match your environment\n",
      "  Ignoring numpy: markers 'python_version == \"3.7\" and platform_system == \"AIX\"' don't match your environment\n",
      "  Ignoring numpy: markers 'python_version >= \"3.8\" and platform_system == \"AIX\"' don't match your environment\n",
      "  Collecting setuptools\n",
      "    Downloading setuptools-75.6.0-py3-none-any.whl.metadata (6.7 kB)\n",
      "  Collecting wheel\n",
      "    Downloading wheel-0.45.1-py3-none-any.whl.metadata (2.3 kB)\n",
      "  Collecting Cython>=0.28.5\n",
      "    Using cached Cython-3.0.11-cp311-cp311-win_amd64.whl.metadata (3.2 kB)\n",
      "  Collecting numpy==1.17.3\n",
      "    Downloading numpy-1.17.3.zip (6.4 MB)\n",
      "       ---------------------------------------- 0.0/6.4 MB ? eta -:--:--\n",
      "       - -------------------------------------- 0.3/6.4 MB ? eta -:--:--\n",
      "       ---- ----------------------------------- 0.8/6.4 MB 2.2 MB/s eta 0:00:03\n",
      "       -------- ------------------------------- 1.3/6.4 MB 2.2 MB/s eta 0:00:03\n",
      "       ----------- ---------------------------- 1.8/6.4 MB 2.2 MB/s eta 0:00:03\n",
      "       ------------- -------------------------- 2.1/6.4 MB 2.2 MB/s eta 0:00:02\n",
      "       ---------------- ----------------------- 2.6/6.4 MB 2.2 MB/s eta 0:00:02\n",
      "       ------------------- -------------------- 3.1/6.4 MB 2.2 MB/s eta 0:00:02\n",
      "       --------------------- ------------------ 3.4/6.4 MB 2.2 MB/s eta 0:00:02\n",
      "       ------------------------ --------------- 3.9/6.4 MB 2.2 MB/s eta 0:00:02\n",
      "       ---------------------------- ----------- 4.5/6.4 MB 2.2 MB/s eta 0:00:01\n",
      "       ------------------------------- -------- 5.0/6.4 MB 2.2 MB/s eta 0:00:01\n",
      "       -------------------------------- ------- 5.2/6.4 MB 2.2 MB/s eta 0:00:01\n",
      "       ------------------------------------ --- 5.8/6.4 MB 2.2 MB/s eta 0:00:01\n",
      "       ---------------------------------------- 6.4/6.4 MB 2.2 MB/s eta 0:00:00\n",
      "    Preparing metadata (setup.py): started\n",
      "    Preparing metadata (setup.py): finished with status 'done'\n",
      "  Collecting scipy>=0.19.1\n",
      "    Using cached scipy-1.14.1-cp311-cp311-win_amd64.whl.metadata (60 kB)\n",
      "  INFO: pip is looking at multiple versions of scipy to determine which version is compatible with other requirements. This could take a while.\n",
      "    Downloading scipy-1.14.0-cp311-cp311-win_amd64.whl.metadata (60 kB)\n",
      "    Downloading scipy-1.13.1-cp311-cp311-win_amd64.whl.metadata (60 kB)\n",
      "    Downloading scipy-1.13.0-cp311-cp311-win_amd64.whl.metadata (60 kB)\n",
      "    Downloading scipy-1.12.0-cp311-cp311-win_amd64.whl.metadata (60 kB)\n",
      "    Using cached scipy-1.11.4-cp311-cp311-win_amd64.whl.metadata (60 kB)\n",
      "    Downloading scipy-1.11.3-cp311-cp311-win_amd64.whl.metadata (60 kB)\n",
      "    Downloading scipy-1.11.2-cp311-cp311-win_amd64.whl.metadata (59 kB)\n",
      "  INFO: pip is still looking at multiple versions of scipy to determine which version is compatible with other requirements. This could take a while.\n",
      "    Downloading scipy-1.11.1-cp311-cp311-win_amd64.whl.metadata (59 kB)\n",
      "    Downloading scipy-1.10.1-cp311-cp311-win_amd64.whl.metadata (58 kB)\n",
      "    Downloading scipy-1.10.0-cp311-cp311-win_amd64.whl.metadata (58 kB)\n",
      "    Downloading scipy-1.9.3-cp311-cp311-win_amd64.whl.metadata (58 kB)\n",
      "    Downloading scipy-1.9.2-cp311-cp311-win_amd64.whl.metadata (58 kB)\n",
      "  INFO: This is taking longer than usual. You might need to provide the dependency resolver with stricter constraints to reduce runtime. See https://pip.pypa.io/warnings/backtracking for guidance. If you want to abort this run, press Ctrl + C.\n",
      "    Downloading scipy-1.9.1.tar.gz (42.0 MB)\n",
      "       ---------------------------------------- 0.0/42.0 MB ? eta -:--:--\n",
      "       ---------------------------------------- 0.3/42.0 MB ? eta -:--:--\n",
      "        --------------------------------------- 0.8/42.0 MB 2.1 MB/s eta 0:00:20\n",
      "       - -------------------------------------- 1.3/42.0 MB 2.2 MB/s eta 0:00:19\n",
      "       - -------------------------------------- 1.6/42.0 MB 2.2 MB/s eta 0:00:19\n",
      "       - -------------------------------------- 2.1/42.0 MB 2.1 MB/s eta 0:00:20\n",
      "       -- ------------------------------------- 2.6/42.0 MB 2.1 MB/s eta 0:00:19\n",
      "       -- ------------------------------------- 3.1/42.0 MB 2.1 MB/s eta 0:00:19\n",
      "       --- ------------------------------------ 3.4/42.0 MB 2.1 MB/s eta 0:00:19\n",
      "       --- ------------------------------------ 3.9/42.0 MB 2.1 MB/s eta 0:00:18\n",
      "       ---- ----------------------------------- 4.5/42.0 MB 2.1 MB/s eta 0:00:18\n",
      "       ---- ----------------------------------- 5.0/42.0 MB 2.1 MB/s eta 0:00:18\n",
      "       ----- ---------------------------------- 5.5/42.0 MB 2.2 MB/s eta 0:00:17\n",
      "       ----- ---------------------------------- 5.8/42.0 MB 2.1 MB/s eta 0:00:17\n",
      "       ----- ---------------------------------- 6.3/42.0 MB 2.2 MB/s eta 0:00:17\n",
      "       ------ --------------------------------- 6.8/42.0 MB 2.2 MB/s eta 0:00:17\n",
      "       ------ --------------------------------- 7.3/42.0 MB 2.2 MB/s eta 0:00:17\n",
      "       ------- -------------------------------- 7.9/42.0 MB 2.2 MB/s eta 0:00:16\n",
      "       ------- -------------------------------- 8.1/42.0 MB 2.2 MB/s eta 0:00:16\n",
      "       -------- ------------------------------- 8.7/42.0 MB 2.2 MB/s eta 0:00:16\n",
      "       -------- ------------------------------- 9.2/42.0 MB 2.2 MB/s eta 0:00:16\n",
      "       --------- ------------------------------ 9.7/42.0 MB 2.2 MB/s eta 0:00:15\n",
      "       --------- ------------------------------ 10.0/42.0 MB 2.2 MB/s eta 0:00:15\n",
      "       --------- ------------------------------ 10.5/42.0 MB 2.2 MB/s eta 0:00:15\n",
      "       ---------- ----------------------------- 11.0/42.0 MB 2.2 MB/s eta 0:00:15\n",
      "       ---------- ----------------------------- 11.5/42.0 MB 2.2 MB/s eta 0:00:15\n",
      "       ----------- ---------------------------- 12.1/42.0 MB 2.2 MB/s eta 0:00:14\n",
      "       ----------- ---------------------------- 12.3/42.0 MB 2.2 MB/s eta 0:00:14\n",
      "       ------------ --------------------------- 12.8/42.0 MB 2.2 MB/s eta 0:00:14\n",
      "       ------------ --------------------------- 13.4/42.0 MB 2.2 MB/s eta 0:00:14\n",
      "       ------------- -------------------------- 13.9/42.0 MB 2.2 MB/s eta 0:00:13\n",
      "       ------------- -------------------------- 14.4/42.0 MB 2.2 MB/s eta 0:00:13\n",
      "       ------------- -------------------------- 14.7/42.0 MB 2.2 MB/s eta 0:00:13\n",
      "       -------------- ------------------------- 15.2/42.0 MB 2.2 MB/s eta 0:00:13\n",
      "       -------------- ------------------------- 15.7/42.0 MB 2.2 MB/s eta 0:00:13\n",
      "       --------------- ------------------------ 16.3/42.0 MB 2.2 MB/s eta 0:00:12\n",
      "       --------------- ------------------------ 16.8/42.0 MB 2.2 MB/s eta 0:00:12\n",
      "       ---------------- ----------------------- 17.0/42.0 MB 2.2 MB/s eta 0:00:12\n",
      "       ---------------- ----------------------- 17.6/42.0 MB 2.2 MB/s eta 0:00:12\n",
      "       ----------------- ---------------------- 18.1/42.0 MB 2.2 MB/s eta 0:00:12\n",
      "       ----------------- ---------------------- 18.4/42.0 MB 2.2 MB/s eta 0:00:11\n",
      "       ----------------- ---------------------- 18.9/42.0 MB 2.2 MB/s eta 0:00:11\n",
      "       ------------------ --------------------- 19.4/42.0 MB 2.2 MB/s eta 0:00:11\n",
      "       ------------------ --------------------- 19.9/42.0 MB 2.2 MB/s eta 0:00:11\n",
      "       ------------------- -------------------- 20.2/42.0 MB 2.2 MB/s eta 0:00:11\n",
      "       ------------------- -------------------- 20.7/42.0 MB 2.2 MB/s eta 0:00:10\n",
      "       -------------------- ------------------- 21.2/42.0 MB 2.2 MB/s eta 0:00:10\n",
      "       -------------------- ------------------- 21.8/42.0 MB 2.2 MB/s eta 0:00:10\n",
      "       --------------------- ------------------ 22.3/42.0 MB 2.2 MB/s eta 0:00:10\n",
      "       --------------------- ------------------ 22.5/42.0 MB 2.2 MB/s eta 0:00:10\n",
      "       --------------------- ------------------ 23.1/42.0 MB 2.2 MB/s eta 0:00:09\n",
      "       ---------------------- ----------------- 23.6/42.0 MB 2.2 MB/s eta 0:00:09\n",
      "       ---------------------- ----------------- 24.1/42.0 MB 2.2 MB/s eta 0:00:09\n",
      "       ----------------------- ---------------- 24.4/42.0 MB 2.2 MB/s eta 0:00:09\n",
      "       ----------------------- ---------------- 24.9/42.0 MB 2.2 MB/s eta 0:00:08\n",
      "       ------------------------ --------------- 25.4/42.0 MB 2.2 MB/s eta 0:00:08\n",
      "       ------------------------ --------------- 26.0/42.0 MB 2.2 MB/s eta 0:00:08\n",
      "       ------------------------ --------------- 26.2/42.0 MB 2.2 MB/s eta 0:00:08\n",
      "       ------------------------- -------------- 26.7/42.0 MB 2.2 MB/s eta 0:00:08\n",
      "       ------------------------- -------------- 27.3/42.0 MB 2.2 MB/s eta 0:00:07\n",
      "       -------------------------- ------------- 27.8/42.0 MB 2.2 MB/s eta 0:00:07\n",
      "       -------------------------- ------------- 28.3/42.0 MB 2.2 MB/s eta 0:00:07\n",
      "       --------------------------- ------------ 28.6/42.0 MB 2.2 MB/s eta 0:00:07\n",
      "       --------------------------- ------------ 29.1/42.0 MB 2.2 MB/s eta 0:00:06\n",
      "       ---------------------------- ----------- 29.6/42.0 MB 2.2 MB/s eta 0:00:06\n",
      "       ---------------------------- ----------- 30.1/42.0 MB 2.2 MB/s eta 0:00:06\n",
      "       ---------------------------- ----------- 30.4/42.0 MB 2.2 MB/s eta 0:00:06\n",
      "       ----------------------------- ---------- 30.9/42.0 MB 2.2 MB/s eta 0:00:06\n",
      "       ----------------------------- ---------- 31.5/42.0 MB 2.2 MB/s eta 0:00:05\n",
      "       ------------------------------ --------- 32.0/42.0 MB 2.2 MB/s eta 0:00:05\n",
      "       ------------------------------ --------- 32.2/42.0 MB 2.2 MB/s eta 0:00:05\n",
      "       ------------------------------- -------- 32.8/42.0 MB 2.2 MB/s eta 0:00:05\n",
      "       ------------------------------- -------- 33.3/42.0 MB 2.2 MB/s eta 0:00:05\n",
      "       -------------------------------- ------- 33.8/42.0 MB 2.2 MB/s eta 0:00:04\n",
      "       -------------------------------- ------- 34.1/42.0 MB 2.2 MB/s eta 0:00:04\n",
      "       -------------------------------- ------- 34.6/42.0 MB 2.2 MB/s eta 0:00:04\n",
      "       --------------------------------- ------ 35.1/42.0 MB 2.2 MB/s eta 0:00:04\n",
      "       --------------------------------- ------ 35.7/42.0 MB 2.2 MB/s eta 0:00:03\n",
      "       ---------------------------------- ----- 36.2/42.0 MB 2.2 MB/s eta 0:00:03\n",
      "       ---------------------------------- ----- 36.4/42.0 MB 2.2 MB/s eta 0:00:03\n",
      "       ----------------------------------- ---- 37.0/42.0 MB 2.2 MB/s eta 0:00:03\n",
      "       ----------------------------------- ---- 37.5/42.0 MB 2.2 MB/s eta 0:00:03\n",
      "       ------------------------------------ --- 38.0/42.0 MB 2.2 MB/s eta 0:00:02\n",
      "       ------------------------------------ --- 38.3/42.0 MB 2.2 MB/s eta 0:00:02\n",
      "       ------------------------------------ --- 38.8/42.0 MB 2.2 MB/s eta 0:00:02\n",
      "       ------------------------------------- -- 39.3/42.0 MB 2.2 MB/s eta 0:00:02\n",
      "       ------------------------------------- -- 39.8/42.0 MB 2.2 MB/s eta 0:00:02\n",
      "       -------------------------------------- - 40.1/42.0 MB 2.2 MB/s eta 0:00:01\n",
      "       -------------------------------------- - 40.6/42.0 MB 2.2 MB/s eta 0:00:01\n",
      "       ---------------------------------------  41.2/42.0 MB 2.2 MB/s eta 0:00:01\n",
      "       ---------------------------------------  41.7/42.0 MB 2.2 MB/s eta 0:00:01\n",
      "       ---------------------------------------- 42.0/42.0 MB 2.2 MB/s eta 0:00:00\n",
      "    Installing build dependencies: started\n",
      "    Installing build dependencies: finished with status 'done'\n",
      "    Getting requirements to build wheel: started\n",
      "    Getting requirements to build wheel: finished with status 'error'\n",
      "    error: subprocess-exited-with-error\n",
      "  \n",
      "    Getting requirements to build wheel did not run successfully.\n",
      "    exit code: 1\n",
      "  \n",
      "    [55 lines of output]\n",
      "    The Meson build system\n",
      "    Version: 0.62.2\n",
      "    Source dir: C:\\Users\\mahdi\\AppData\\Local\\Temp\\pip-install-atp_ust6\\scipy_101ebba0059c49a4b889f6cbdbfc7140\n",
      "    Build dir: C:\\Users\\mahdi\\AppData\\Local\\Temp\\pip-install-atp_ust6\\scipy_101ebba0059c49a4b889f6cbdbfc7140\\.mesonpy-9dv7ejf7\\build\n",
      "    Build type: native build\n",
      "    Project name: SciPy\n",
      "    Project version: 1.9.1\n",
      "    WARNING: Failed to activate VS environment: Could not parse vswhere.exe output\n",
      "  \n",
      "    ..\\..\\meson.build:1:0: ERROR: Unknown compiler(s): [['icl'], ['cl'], ['cc'], ['gcc'], ['clang'], ['clang-cl'], ['pgcc']]\n",
      "    The following exception(s) were encountered:\n",
      "    Running \"icl \" gave \"[WinError 2] The system cannot find the file specified\"\n",
      "    Running \"cl /?\" gave \"[WinError 2] The system cannot find the file specified\"\n",
      "    Running \"cc --version\" gave \"[WinError 2] The system cannot find the file specified\"\n",
      "    Running \"gcc --version\" gave \"[WinError 2] The system cannot find the file specified\"\n",
      "    Running \"clang --version\" gave \"[WinError 2] The system cannot find the file specified\"\n",
      "    Running \"clang-cl /?\" gave \"[WinError 2] The system cannot find the file specified\"\n",
      "    Running \"pgcc --version\" gave \"[WinError 2] The system cannot find the file specified\"\n",
      "  \n",
      "    A full log can be found at C:\\Users\\mahdi\\AppData\\Local\\Temp\\pip-install-atp_ust6\\scipy_101ebba0059c49a4b889f6cbdbfc7140\\.mesonpy-9dv7ejf7\\build\\meson-logs\\meson-log.txt\n",
      "    \u001B[36m\u001B[1m+ meson setup --native-file=C:\\Users\\mahdi\\AppData\\Local\\Temp\\pip-install-atp_ust6\\scipy_101ebba0059c49a4b889f6cbdbfc7140\\.mesonpy-native-file.ini -Ddebug=false -Doptimization=2 --prefix=C:\\Users\\mahdi\\AppData\\Local\\Programs\\Python\\Python311 C:\\Users\\mahdi\\AppData\\Local\\Temp\\pip-install-atp_ust6\\scipy_101ebba0059c49a4b889f6cbdbfc7140 C:\\Users\\mahdi\\AppData\\Local\\Temp\\pip-install-atp_ust6\\scipy_101ebba0059c49a4b889f6cbdbfc7140\\.mesonpy-9dv7ejf7\\build\u001B[0m\n",
      "    Traceback (most recent call last):\n",
      "      File \"C:\\Users\\mahdi\\PycharmProjects\\TunHousePrices\\.venv\\Lib\\site-packages\\pip\\_vendor\\pyproject_hooks\\_in_process\\_in_process.py\", line 353, in <module>\n",
      "        main()\n",
      "      File \"C:\\Users\\mahdi\\PycharmProjects\\TunHousePrices\\.venv\\Lib\\site-packages\\pip\\_vendor\\pyproject_hooks\\_in_process\\_in_process.py\", line 335, in main\n",
      "        json_out['return_val'] = hook(**hook_input['kwargs'])\n",
      "                                 ^^^^^^^^^^^^^^^^^^^^^^^^^^^^\n",
      "      File \"C:\\Users\\mahdi\\PycharmProjects\\TunHousePrices\\.venv\\Lib\\site-packages\\pip\\_vendor\\pyproject_hooks\\_in_process\\_in_process.py\", line 118, in get_requires_for_build_wheel\n",
      "        return hook(config_settings)\n",
      "               ^^^^^^^^^^^^^^^^^^^^^\n",
      "      File \"C:\\Users\\mahdi\\AppData\\Local\\Temp\\pip-build-env-dqj1j3_8\\overlay\\Lib\\site-packages\\mesonpy\\__init__.py\", line 969, in get_requires_for_build_wheel\n",
      "        with _project(config_settings) as project:\n",
      "      File \"C:\\Users\\mahdi\\AppData\\Local\\Programs\\Python\\Python311\\Lib\\contextlib.py\", line 137, in __enter__\n",
      "        return next(self.gen)\n",
      "               ^^^^^^^^^^^^^^\n",
      "      File \"C:\\Users\\mahdi\\AppData\\Local\\Temp\\pip-build-env-dqj1j3_8\\overlay\\Lib\\site-packages\\mesonpy\\__init__.py\", line 948, in _project\n",
      "        with Project.with_temp_working_dir(\n",
      "      File \"C:\\Users\\mahdi\\AppData\\Local\\Programs\\Python\\Python311\\Lib\\contextlib.py\", line 137, in __enter__\n",
      "        return next(self.gen)\n",
      "               ^^^^^^^^^^^^^^\n",
      "      File \"C:\\Users\\mahdi\\AppData\\Local\\Temp\\pip-build-env-dqj1j3_8\\overlay\\Lib\\site-packages\\mesonpy\\__init__.py\", line 777, in with_temp_working_dir\n",
      "        yield cls(source_dir, tmpdir, build_dir)\n",
      "              ^^^^^^^^^^^^^^^^^^^^^^^^^^^^^^^^^^\n",
      "      File \"C:\\Users\\mahdi\\AppData\\Local\\Temp\\pip-build-env-dqj1j3_8\\overlay\\Lib\\site-packages\\mesonpy\\__init__.py\", line 682, in __init__\n",
      "        self._configure(reconfigure=bool(build_dir) and not native_file_mismatch)\n",
      "      File \"C:\\Users\\mahdi\\AppData\\Local\\Temp\\pip-build-env-dqj1j3_8\\overlay\\Lib\\site-packages\\mesonpy\\__init__.py\", line 713, in _configure\n",
      "        self._meson(\n",
      "      File \"C:\\Users\\mahdi\\AppData\\Local\\Temp\\pip-build-env-dqj1j3_8\\overlay\\Lib\\site-packages\\mesonpy\\__init__.py\", line 696, in _meson\n",
      "        return self._proc('meson', *args)\n",
      "               ^^^^^^^^^^^^^^^^^^^^^^^^^^\n",
      "      File \"C:\\Users\\mahdi\\AppData\\Local\\Temp\\pip-build-env-dqj1j3_8\\overlay\\Lib\\site-packages\\mesonpy\\__init__.py\", line 691, in _proc\n",
      "        subprocess.check_call(list(args))\n",
      "      File \"C:\\Users\\mahdi\\AppData\\Local\\Programs\\Python\\Python311\\Lib\\subprocess.py\", line 413, in check_call\n",
      "        raise CalledProcessError(retcode, cmd)\n",
      "    subprocess.CalledProcessError: Command '['meson', 'setup', '--native-file=C:\\\\Users\\\\mahdi\\\\AppData\\\\Local\\\\Temp\\\\pip-install-atp_ust6\\\\scipy_101ebba0059c49a4b889f6cbdbfc7140\\\\.mesonpy-native-file.ini', '-Ddebug=false', '-Doptimization=2', '--prefix=C:\\\\Users\\\\mahdi\\\\AppData\\\\Local\\\\Programs\\\\Python\\\\Python311', 'C:\\\\Users\\\\mahdi\\\\AppData\\\\Local\\\\Temp\\\\pip-install-atp_ust6\\\\scipy_101ebba0059c49a4b889f6cbdbfc7140', 'C:\\\\Users\\\\mahdi\\\\AppData\\\\Local\\\\Temp\\\\pip-install-atp_ust6\\\\scipy_101ebba0059c49a4b889f6cbdbfc7140\\\\.mesonpy-9dv7ejf7\\\\build']' returned non-zero exit status 1.\n",
      "    [end of output]\n",
      "  \n",
      "    note: This error originates from a subprocess, and is likely not a problem with pip.\n",
      "  error: subprocess-exited-with-error\n",
      "  \n",
      "  Getting requirements to build wheel did not run successfully.\n",
      "  exit code: 1\n",
      "  \n",
      "  See above for output.\n",
      "  \n",
      "  note: This error originates from a subprocess, and is likely not a problem with pip.\n",
      "  [end of output]\n",
      "  \n",
      "  note: This error originates from a subprocess, and is likely not a problem with pip.\n",
      "error: subprocess-exited-with-error\n",
      "\n",
      "pip subprocess to install build dependencies did not run successfully.\n",
      "exit code: 1\n",
      "\n",
      "See above for output.\n",
      "\n",
      "note: This error originates from a subprocess, and is likely not a problem with pip.\n"
     ]
    }
   ],
   "execution_count": 38
  },
  {
   "cell_type": "code",
   "metadata": {
    "colab": {
     "base_uri": "https://localhost:8080/",
     "height": 1325,
     "referenced_widgets": [
      "6626c84798dd4279ac748abbb4e50c83",
      "e7f88a3c230f4343a365d771c0f2d09f",
      "003972f711564cad9f7bf9cf6b9d6b85",
      "9bf8738238dc4a4e8fd19b5053d50143",
      "d462a7daca9c44709cd36c39d8538b2b",
      "a2a06edb28be4b8fadae1248080fac42",
      "8747a0c18ac84a7c875b15fcdc77bdf5",
      "691c7efcafee477eb8d25206362438f8",
      "801f397e4d4b44efb025cb6d6afc5ccf",
      "52630aff36524f139ab730d133ddc85e",
      "ea7ac605d4ef4cf68580c1301a050550"
     ]
    },
    "id": "y3Do3pCXmJAJ",
    "outputId": "42b69be6-ee88-42a2-beac-d8718ed8ef7d",
    "ExecuteTime": {
     "end_time": "2024-12-02T11:20:25.143375Z",
     "start_time": "2024-12-02T11:20:14.920018Z"
    }
   },
   "source": [
    "from pycaret.regression import *\n",
    "s = setup(HAXOR[['area', 'n_bedrooms', 'n_bathrooms','price','Type','state','city']], target = 'price',\n",
    "           session_id = 123,categorical_features=['Type','state','city'])\n",
    "best = compare_models()"
   ],
   "outputs": [
    {
     "ename": "AttributeError",
     "evalue": "'Series' object has no attribute 'iteritems'",
     "output_type": "error",
     "traceback": [
      "\u001B[1;31m---------------------------------------------------------------------------\u001B[0m",
      "\u001B[1;31mAttributeError\u001B[0m                            Traceback (most recent call last)",
      "\u001B[1;32m~\\AppData\\Local\\Temp\\ipykernel_3368\\3613438785.py\u001B[0m in \u001B[0;36m?\u001B[1;34m()\u001B[0m\n\u001B[0;32m      1\u001B[0m \u001B[1;32mfrom\u001B[0m \u001B[0mpycaret\u001B[0m\u001B[1;33m.\u001B[0m\u001B[0mregression\u001B[0m \u001B[1;32mimport\u001B[0m \u001B[1;33m*\u001B[0m\u001B[1;33m\u001B[0m\u001B[1;33m\u001B[0m\u001B[0m\n\u001B[1;32m----> 2\u001B[1;33m s = setup(HAXOR[['area', 'n_bedrooms', 'n_bathrooms','price','Type','state','city']], target = 'price',\n\u001B[0m\u001B[0;32m      3\u001B[0m            session_id = 123,categorical_features=['Type','state','city'])\n\u001B[0;32m      4\u001B[0m \u001B[0mbest\u001B[0m \u001B[1;33m=\u001B[0m \u001B[0mcompare_models\u001B[0m\u001B[1;33m(\u001B[0m\u001B[1;33m)\u001B[0m\u001B[1;33m\u001B[0m\u001B[1;33m\u001B[0m\u001B[0m\n",
      "\u001B[1;32m~\\PycharmProjects\\TunHousePrices\\.venv\\Lib\\site-packages\\pycaret\\regression\\functional.py\u001B[0m in \u001B[0;36m?\u001B[1;34m(data, data_func, target, index, train_size, test_data, ordinal_features, numeric_features, categorical_features, date_features, text_features, ignore_features, keep_features, preprocess, create_date_columns, imputation_type, numeric_imputation, categorical_imputation, iterative_imputation_iters, numeric_iterative_imputer, categorical_iterative_imputer, text_features_method, max_encoding_ohe, encoding_method, rare_to_value, rare_value, polynomial_features, polynomial_degree, low_variance_threshold, group_features, drop_groups, remove_multicollinearity, multicollinearity_threshold, bin_numeric_features, remove_outliers, outliers_method, outliers_threshold, transformation, transformation_method, normalize, normalize_method, pca, pca_method, pca_components, feature_selection, feature_selection_method, feature_selection_estimator, n_features_to_select, transform_target, transform_target_method, custom_pipeline, custom_pipeline_position, data_split_shuffle, data_split_stratify, fold_strategy, fold, fold_shuffle, fold_groups, n_jobs, use_gpu, html, session_id, system_log, log_experiment, experiment_name, experiment_custom_tags, log_plots, log_profile, log_data, verbose, memory, profile, profile_kwargs)\u001B[0m\n\u001B[0;32m    589\u001B[0m \u001B[1;33m\u001B[0m\u001B[0m\n\u001B[0;32m    590\u001B[0m     \"\"\"\n\u001B[0;32m    591\u001B[0m     \u001B[0mexp\u001B[0m \u001B[1;33m=\u001B[0m \u001B[0m_EXPERIMENT_CLASS\u001B[0m\u001B[1;33m(\u001B[0m\u001B[1;33m)\u001B[0m\u001B[1;33m\u001B[0m\u001B[1;33m\u001B[0m\u001B[0m\n\u001B[0;32m    592\u001B[0m     \u001B[0mset_current_experiment\u001B[0m\u001B[1;33m(\u001B[0m\u001B[0mexp\u001B[0m\u001B[1;33m)\u001B[0m\u001B[1;33m\u001B[0m\u001B[1;33m\u001B[0m\u001B[0m\n\u001B[1;32m--> 593\u001B[1;33m     return exp.setup(\n\u001B[0m\u001B[0;32m    594\u001B[0m         \u001B[0mdata\u001B[0m\u001B[1;33m=\u001B[0m\u001B[0mdata\u001B[0m\u001B[1;33m,\u001B[0m\u001B[1;33m\u001B[0m\u001B[1;33m\u001B[0m\u001B[0m\n\u001B[0;32m    595\u001B[0m         \u001B[0mdata_func\u001B[0m\u001B[1;33m=\u001B[0m\u001B[0mdata_func\u001B[0m\u001B[1;33m,\u001B[0m\u001B[1;33m\u001B[0m\u001B[1;33m\u001B[0m\u001B[0m\n\u001B[0;32m    596\u001B[0m         \u001B[0mtarget\u001B[0m\u001B[1;33m=\u001B[0m\u001B[0mtarget\u001B[0m\u001B[1;33m,\u001B[0m\u001B[1;33m\u001B[0m\u001B[1;33m\u001B[0m\u001B[0m\n",
      "\u001B[1;32m~\\PycharmProjects\\TunHousePrices\\.venv\\Lib\\site-packages\\pycaret\\regression\\oop.py\u001B[0m in \u001B[0;36m?\u001B[1;34m(self, data, data_func, target, index, train_size, test_data, ordinal_features, numeric_features, categorical_features, date_features, text_features, ignore_features, keep_features, preprocess, create_date_columns, imputation_type, numeric_imputation, categorical_imputation, iterative_imputation_iters, numeric_iterative_imputer, categorical_iterative_imputer, text_features_method, max_encoding_ohe, encoding_method, rare_to_value, rare_value, polynomial_features, polynomial_degree, low_variance_threshold, group_features, drop_groups, remove_multicollinearity, multicollinearity_threshold, bin_numeric_features, remove_outliers, outliers_method, outliers_threshold, transformation, transformation_method, normalize, normalize_method, pca, pca_method, pca_components, feature_selection, feature_selection_method, feature_selection_estimator, n_features_to_select, transform_target, transform_target_method, custom_pipeline, custom_pipeline_position, data_split_shuffle, data_split_stratify, fold_strategy, fold, fold_shuffle, fold_groups, n_jobs, use_gpu, html, session_id, system_log, log_experiment, experiment_name, experiment_custom_tags, log_plots, log_profile, log_data, engine, verbose, memory, profile, profile_kwargs)\u001B[0m\n\u001B[0;32m    848\u001B[0m         \u001B[1;31m# Remove placeholder step\u001B[0m\u001B[1;33m\u001B[0m\u001B[1;33m\u001B[0m\u001B[0m\n\u001B[0;32m    849\u001B[0m         \u001B[1;32mif\u001B[0m \u001B[1;33m(\u001B[0m\u001B[1;34m\"placeholder\"\u001B[0m\u001B[1;33m,\u001B[0m \u001B[1;32mNone\u001B[0m\u001B[1;33m)\u001B[0m \u001B[1;32min\u001B[0m \u001B[0mself\u001B[0m\u001B[1;33m.\u001B[0m\u001B[0mpipeline\u001B[0m\u001B[1;33m.\u001B[0m\u001B[0msteps\u001B[0m \u001B[1;32mand\u001B[0m \u001B[0mlen\u001B[0m\u001B[1;33m(\u001B[0m\u001B[0mself\u001B[0m\u001B[1;33m.\u001B[0m\u001B[0mpipeline\u001B[0m\u001B[1;33m)\u001B[0m \u001B[1;33m>\u001B[0m \u001B[1;36m1\u001B[0m\u001B[1;33m:\u001B[0m\u001B[1;33m\u001B[0m\u001B[1;33m\u001B[0m\u001B[0m\n\u001B[0;32m    850\u001B[0m             \u001B[0mself\u001B[0m\u001B[1;33m.\u001B[0m\u001B[0mpipeline\u001B[0m\u001B[1;33m.\u001B[0m\u001B[0msteps\u001B[0m\u001B[1;33m.\u001B[0m\u001B[0mremove\u001B[0m\u001B[1;33m(\u001B[0m\u001B[1;33m(\u001B[0m\u001B[1;34m\"placeholder\"\u001B[0m\u001B[1;33m,\u001B[0m \u001B[1;32mNone\u001B[0m\u001B[1;33m)\u001B[0m\u001B[1;33m)\u001B[0m\u001B[1;33m\u001B[0m\u001B[1;33m\u001B[0m\u001B[0m\n\u001B[0;32m    851\u001B[0m \u001B[1;33m\u001B[0m\u001B[0m\n\u001B[1;32m--> 852\u001B[1;33m         \u001B[0mself\u001B[0m\u001B[1;33m.\u001B[0m\u001B[0mpipeline\u001B[0m\u001B[1;33m.\u001B[0m\u001B[0mfit\u001B[0m\u001B[1;33m(\u001B[0m\u001B[0mself\u001B[0m\u001B[1;33m.\u001B[0m\u001B[0mX_train\u001B[0m\u001B[1;33m,\u001B[0m \u001B[0mself\u001B[0m\u001B[1;33m.\u001B[0m\u001B[0my_train\u001B[0m\u001B[1;33m)\u001B[0m\u001B[1;33m\u001B[0m\u001B[1;33m\u001B[0m\u001B[0m\n\u001B[0m\u001B[0;32m    853\u001B[0m \u001B[1;33m\u001B[0m\u001B[0m\n\u001B[0;32m    854\u001B[0m         \u001B[0mself\u001B[0m\u001B[1;33m.\u001B[0m\u001B[0mlogger\u001B[0m\u001B[1;33m.\u001B[0m\u001B[0minfo\u001B[0m\u001B[1;33m(\u001B[0m\u001B[1;34m\"Finished creating preprocessing pipeline.\"\u001B[0m\u001B[1;33m)\u001B[0m\u001B[1;33m\u001B[0m\u001B[1;33m\u001B[0m\u001B[0m\n\u001B[0;32m    855\u001B[0m         \u001B[0mself\u001B[0m\u001B[1;33m.\u001B[0m\u001B[0mlogger\u001B[0m\u001B[1;33m.\u001B[0m\u001B[0minfo\u001B[0m\u001B[1;33m(\u001B[0m\u001B[1;34mf\"Pipeline: {self.pipeline}\"\u001B[0m\u001B[1;33m)\u001B[0m\u001B[1;33m\u001B[0m\u001B[1;33m\u001B[0m\u001B[0m\n",
      "\u001B[1;32m~\\PycharmProjects\\TunHousePrices\\.venv\\Lib\\site-packages\\pycaret\\internal\\pipeline.py\u001B[0m in \u001B[0;36m?\u001B[1;34m(self, X, y, **params)\u001B[0m\n\u001B[0;32m    271\u001B[0m     \u001B[1;32mdef\u001B[0m \u001B[0mfit\u001B[0m\u001B[1;33m(\u001B[0m\u001B[0mself\u001B[0m\u001B[1;33m,\u001B[0m \u001B[0mX\u001B[0m\u001B[1;33m=\u001B[0m\u001B[1;32mNone\u001B[0m\u001B[1;33m,\u001B[0m \u001B[0my\u001B[0m\u001B[1;33m=\u001B[0m\u001B[1;32mNone\u001B[0m\u001B[1;33m,\u001B[0m \u001B[1;33m**\u001B[0m\u001B[0mparams\u001B[0m\u001B[1;33m)\u001B[0m\u001B[1;33m:\u001B[0m\u001B[1;33m\u001B[0m\u001B[1;33m\u001B[0m\u001B[0m\n\u001B[0;32m    272\u001B[0m         \u001B[0mrouted_params\u001B[0m \u001B[1;33m=\u001B[0m \u001B[0mself\u001B[0m\u001B[1;33m.\u001B[0m\u001B[0m_check_method_params\u001B[0m\u001B[1;33m(\u001B[0m\u001B[0mmethod\u001B[0m\u001B[1;33m=\u001B[0m\u001B[1;34m\"fit\"\u001B[0m\u001B[1;33m,\u001B[0m \u001B[0mprops\u001B[0m\u001B[1;33m=\u001B[0m\u001B[0mparams\u001B[0m\u001B[1;33m)\u001B[0m\u001B[1;33m\u001B[0m\u001B[1;33m\u001B[0m\u001B[0m\n\u001B[1;32m--> 273\u001B[1;33m         \u001B[0mX\u001B[0m\u001B[1;33m,\u001B[0m \u001B[0my\u001B[0m\u001B[1;33m,\u001B[0m \u001B[0m_\u001B[0m \u001B[1;33m=\u001B[0m \u001B[0mself\u001B[0m\u001B[1;33m.\u001B[0m\u001B[0m_fit\u001B[0m\u001B[1;33m(\u001B[0m\u001B[0mX\u001B[0m\u001B[1;33m,\u001B[0m \u001B[0my\u001B[0m\u001B[1;33m,\u001B[0m \u001B[0mrouted_params\u001B[0m\u001B[1;33m)\u001B[0m\u001B[1;33m\u001B[0m\u001B[1;33m\u001B[0m\u001B[0m\n\u001B[0m\u001B[0;32m    274\u001B[0m \u001B[1;33m\u001B[0m\u001B[0m\n\u001B[0;32m    275\u001B[0m         \u001B[1;32mwith\u001B[0m \u001B[0m_print_elapsed_time\u001B[0m\u001B[1;33m(\u001B[0m\u001B[1;34m\"Pipeline\"\u001B[0m\u001B[1;33m,\u001B[0m \u001B[0mself\u001B[0m\u001B[1;33m.\u001B[0m\u001B[0m_log_message\u001B[0m\u001B[1;33m(\u001B[0m\u001B[0mlen\u001B[0m\u001B[1;33m(\u001B[0m\u001B[0mself\u001B[0m\u001B[1;33m.\u001B[0m\u001B[0msteps\u001B[0m\u001B[1;33m)\u001B[0m \u001B[1;33m-\u001B[0m \u001B[1;36m1\u001B[0m\u001B[1;33m)\u001B[0m\u001B[1;33m)\u001B[0m\u001B[1;33m:\u001B[0m\u001B[1;33m\u001B[0m\u001B[1;33m\u001B[0m\u001B[0m\n\u001B[0;32m    276\u001B[0m             \u001B[1;32mif\u001B[0m \u001B[0mself\u001B[0m\u001B[1;33m.\u001B[0m\u001B[0m_final_estimator\u001B[0m \u001B[1;33m!=\u001B[0m \u001B[1;34m\"passthrough\"\u001B[0m\u001B[1;33m:\u001B[0m\u001B[1;33m\u001B[0m\u001B[1;33m\u001B[0m\u001B[0m\n",
      "\u001B[1;32m~\\PycharmProjects\\TunHousePrices\\.venv\\Lib\\site-packages\\pycaret\\internal\\pipeline.py\u001B[0m in \u001B[0;36m?\u001B[1;34m(self, X, y, routed_params)\u001B[0m\n\u001B[0;32m    245\u001B[0m                 \u001B[1;32mif\u001B[0m \u001B[0mhasattr\u001B[0m\u001B[1;33m(\u001B[0m\u001B[0mcloned\u001B[0m\u001B[1;33m,\u001B[0m \u001B[1;34m\"_cache_full_transform\"\u001B[0m\u001B[1;33m)\u001B[0m\u001B[1;33m:\u001B[0m\u001B[1;33m\u001B[0m\u001B[1;33m\u001B[0m\u001B[0m\n\u001B[0;32m    246\u001B[0m                     \u001B[0mcloned\u001B[0m\u001B[1;33m.\u001B[0m\u001B[0m_cache_full_transform\u001B[0m \u001B[1;33m=\u001B[0m \u001B[1;32mFalse\u001B[0m\u001B[1;33m\u001B[0m\u001B[1;33m\u001B[0m\u001B[0m\n\u001B[0;32m    247\u001B[0m \u001B[1;33m\u001B[0m\u001B[0m\n\u001B[0;32m    248\u001B[0m                 \u001B[1;31m# Fit or load the current transformer from cache\u001B[0m\u001B[1;33m\u001B[0m\u001B[1;33m\u001B[0m\u001B[0m\n\u001B[1;32m--> 249\u001B[1;33m                 fitted_transformer = self._memory_fit(\n\u001B[0m\u001B[0;32m    250\u001B[0m                     \u001B[0mtransformer\u001B[0m\u001B[1;33m=\u001B[0m\u001B[0mcloned\u001B[0m\u001B[1;33m,\u001B[0m\u001B[1;33m\u001B[0m\u001B[1;33m\u001B[0m\u001B[0m\n\u001B[0;32m    251\u001B[0m                     \u001B[0mX\u001B[0m\u001B[1;33m=\u001B[0m\u001B[0mX\u001B[0m\u001B[1;33m,\u001B[0m\u001B[1;33m\u001B[0m\u001B[1;33m\u001B[0m\u001B[0m\n\u001B[0;32m    252\u001B[0m                     \u001B[0my\u001B[0m\u001B[1;33m=\u001B[0m\u001B[0my\u001B[0m\u001B[1;33m,\u001B[0m\u001B[1;33m\u001B[0m\u001B[1;33m\u001B[0m\u001B[0m\n",
      "\u001B[1;32m~\\PycharmProjects\\TunHousePrices\\.venv\\Lib\\site-packages\\joblib\\memory.py\u001B[0m in \u001B[0;36m?\u001B[1;34m(self, *args, **kwargs)\u001B[0m\n\u001B[0;32m    654\u001B[0m     \u001B[1;32mdef\u001B[0m \u001B[0m__call__\u001B[0m\u001B[1;33m(\u001B[0m\u001B[0mself\u001B[0m\u001B[1;33m,\u001B[0m \u001B[1;33m*\u001B[0m\u001B[0margs\u001B[0m\u001B[1;33m,\u001B[0m \u001B[1;33m**\u001B[0m\u001B[0mkwargs\u001B[0m\u001B[1;33m)\u001B[0m\u001B[1;33m:\u001B[0m\u001B[1;33m\u001B[0m\u001B[1;33m\u001B[0m\u001B[0m\n\u001B[1;32m--> 655\u001B[1;33m         \u001B[1;32mreturn\u001B[0m \u001B[0mself\u001B[0m\u001B[1;33m.\u001B[0m\u001B[0m_cached_call\u001B[0m\u001B[1;33m(\u001B[0m\u001B[0margs\u001B[0m\u001B[1;33m,\u001B[0m \u001B[0mkwargs\u001B[0m\u001B[1;33m)\u001B[0m\u001B[1;33m[\u001B[0m\u001B[1;36m0\u001B[0m\u001B[1;33m]\u001B[0m\u001B[1;33m\u001B[0m\u001B[1;33m\u001B[0m\u001B[0m\n\u001B[0m",
      "\u001B[1;32m~\\PycharmProjects\\TunHousePrices\\.venv\\Lib\\site-packages\\pycaret\\internal\\memory.py\u001B[0m in \u001B[0;36m?\u001B[1;34m(self, args, kwargs, shelving)\u001B[0m\n\u001B[0;32m    388\u001B[0m \u001B[1;33m\u001B[0m\u001B[0m\n\u001B[0;32m    389\u001B[0m         \u001B[1;32mif\u001B[0m \u001B[0mmust_call\u001B[0m\u001B[1;33m:\u001B[0m\u001B[1;33m\u001B[0m\u001B[1;33m\u001B[0m\u001B[0m\n\u001B[0;32m    390\u001B[0m             \u001B[1;31m# PYCARET CHANGES\u001B[0m\u001B[1;33m\u001B[0m\u001B[1;33m\u001B[0m\u001B[0m\n\u001B[0;32m    391\u001B[0m             \u001B[0mself\u001B[0m\u001B[1;33m.\u001B[0m\u001B[0m_cached_output_identifiers\u001B[0m \u001B[1;33m=\u001B[0m \u001B[0mfunc_id\u001B[0m\u001B[1;33m,\u001B[0m \u001B[0margs_id\u001B[0m\u001B[1;33m\u001B[0m\u001B[1;33m\u001B[0m\u001B[0m\n\u001B[1;32m--> 392\u001B[1;33m             \u001B[0mout\u001B[0m\u001B[1;33m,\u001B[0m \u001B[0mmetadata\u001B[0m \u001B[1;33m=\u001B[0m \u001B[0mself\u001B[0m\u001B[1;33m.\u001B[0m\u001B[0mcall\u001B[0m\u001B[1;33m(\u001B[0m\u001B[1;33m*\u001B[0m\u001B[0margs\u001B[0m\u001B[1;33m,\u001B[0m \u001B[1;33m**\u001B[0m\u001B[0mkwargs\u001B[0m\u001B[1;33m)\u001B[0m\u001B[1;33m\u001B[0m\u001B[1;33m\u001B[0m\u001B[0m\n\u001B[0m\u001B[0;32m    393\u001B[0m             \u001B[1;32mif\u001B[0m \u001B[0mself\u001B[0m\u001B[1;33m.\u001B[0m\u001B[0mmmap_mode\u001B[0m \u001B[1;32mis\u001B[0m \u001B[1;32mnot\u001B[0m \u001B[1;32mNone\u001B[0m \u001B[1;32mand\u001B[0m \u001B[0mmetadata\u001B[0m \u001B[1;32mis\u001B[0m \u001B[1;32mnot\u001B[0m \u001B[1;32mNone\u001B[0m\u001B[1;33m:\u001B[0m\u001B[1;33m\u001B[0m\u001B[1;33m\u001B[0m\u001B[0m\n\u001B[0;32m    394\u001B[0m                 \u001B[1;31m# PYCARET CHANGES END\u001B[0m\u001B[1;33m\u001B[0m\u001B[1;33m\u001B[0m\u001B[0m\n\u001B[0;32m    395\u001B[0m                 \u001B[1;31m# Memmap the output at the first call to be consistent with\u001B[0m\u001B[1;33m\u001B[0m\u001B[1;33m\u001B[0m\u001B[0m\n",
      "\u001B[1;32m~\\PycharmProjects\\TunHousePrices\\.venv\\Lib\\site-packages\\pycaret\\internal\\memory.py\u001B[0m in \u001B[0;36m?\u001B[1;34m(self, *args, **kwargs)\u001B[0m\n\u001B[0;32m    304\u001B[0m             \u001B[0mprint\u001B[0m\u001B[1;33m(\u001B[0m\u001B[0mformat_call\u001B[0m\u001B[1;33m(\u001B[0m\u001B[0mself\u001B[0m\u001B[1;33m.\u001B[0m\u001B[0mfunc\u001B[0m\u001B[1;33m,\u001B[0m \u001B[0margs\u001B[0m\u001B[1;33m,\u001B[0m \u001B[0mkwargs\u001B[0m\u001B[1;33m)\u001B[0m\u001B[1;33m)\u001B[0m\u001B[1;33m\u001B[0m\u001B[1;33m\u001B[0m\u001B[0m\n\u001B[0;32m    305\u001B[0m \u001B[1;33m\u001B[0m\u001B[0m\n\u001B[0;32m    306\u001B[0m         \u001B[1;31m# PYCARET CHANGES\u001B[0m\u001B[1;33m\u001B[0m\u001B[1;33m\u001B[0m\u001B[0m\n\u001B[0;32m    307\u001B[0m         \u001B[0mfunc_start_time\u001B[0m \u001B[1;33m=\u001B[0m \u001B[0mtime\u001B[0m\u001B[1;33m.\u001B[0m\u001B[0mmonotonic\u001B[0m\u001B[1;33m(\u001B[0m\u001B[1;33m)\u001B[0m\u001B[1;33m\u001B[0m\u001B[1;33m\u001B[0m\u001B[0m\n\u001B[1;32m--> 308\u001B[1;33m         \u001B[0moutput\u001B[0m \u001B[1;33m=\u001B[0m \u001B[0mself\u001B[0m\u001B[1;33m.\u001B[0m\u001B[0mfunc\u001B[0m\u001B[1;33m(\u001B[0m\u001B[1;33m*\u001B[0m\u001B[0margs\u001B[0m\u001B[1;33m,\u001B[0m \u001B[1;33m**\u001B[0m\u001B[0mkwargs\u001B[0m\u001B[1;33m)\u001B[0m\u001B[1;33m\u001B[0m\u001B[1;33m\u001B[0m\u001B[0m\n\u001B[0m\u001B[0;32m    309\u001B[0m         \u001B[0mfunc_duration\u001B[0m \u001B[1;33m=\u001B[0m \u001B[0mtime\u001B[0m\u001B[1;33m.\u001B[0m\u001B[0mmonotonic\u001B[0m\u001B[1;33m(\u001B[0m\u001B[1;33m)\u001B[0m \u001B[1;33m-\u001B[0m \u001B[0mfunc_start_time\u001B[0m\u001B[1;33m\u001B[0m\u001B[1;33m\u001B[0m\u001B[0m\n\u001B[0;32m    310\u001B[0m         \u001B[1;32mif\u001B[0m \u001B[0mfunc_duration\u001B[0m \u001B[1;33m>=\u001B[0m \u001B[0mself\u001B[0m\u001B[1;33m.\u001B[0m\u001B[0mmin_time_to_cache\u001B[0m\u001B[1;33m:\u001B[0m\u001B[1;33m\u001B[0m\u001B[1;33m\u001B[0m\u001B[0m\n\u001B[0;32m    311\u001B[0m             self.store_backend.dump_item(\n",
      "\u001B[1;32m~\\PycharmProjects\\TunHousePrices\\.venv\\Lib\\site-packages\\pycaret\\internal\\pipeline.py\u001B[0m in \u001B[0;36m?\u001B[1;34m(transformer, X, y, message, params)\u001B[0m\n\u001B[0;32m     65\u001B[0m             \u001B[1;32mif\u001B[0m \u001B[1;34m\"X\"\u001B[0m \u001B[1;32min\u001B[0m \u001B[0msignature\u001B[0m\u001B[1;33m(\u001B[0m\u001B[0mtransformer\u001B[0m\u001B[1;33m.\u001B[0m\u001B[0mfit\u001B[0m\u001B[1;33m)\u001B[0m\u001B[1;33m.\u001B[0m\u001B[0mparameters\u001B[0m\u001B[1;33m:\u001B[0m\u001B[1;33m\u001B[0m\u001B[1;33m\u001B[0m\u001B[0m\n\u001B[0;32m     66\u001B[0m                 \u001B[0margs\u001B[0m\u001B[1;33m.\u001B[0m\u001B[0mappend\u001B[0m\u001B[1;33m(\u001B[0m\u001B[0mX\u001B[0m\u001B[1;33m)\u001B[0m\u001B[1;33m\u001B[0m\u001B[1;33m\u001B[0m\u001B[0m\n\u001B[0;32m     67\u001B[0m             \u001B[1;32mif\u001B[0m \u001B[1;34m\"y\"\u001B[0m \u001B[1;32min\u001B[0m \u001B[0msignature\u001B[0m\u001B[1;33m(\u001B[0m\u001B[0mtransformer\u001B[0m\u001B[1;33m.\u001B[0m\u001B[0mfit\u001B[0m\u001B[1;33m)\u001B[0m\u001B[1;33m.\u001B[0m\u001B[0mparameters\u001B[0m\u001B[1;33m:\u001B[0m\u001B[1;33m\u001B[0m\u001B[1;33m\u001B[0m\u001B[0m\n\u001B[0;32m     68\u001B[0m                 \u001B[0margs\u001B[0m\u001B[1;33m.\u001B[0m\u001B[0mappend\u001B[0m\u001B[1;33m(\u001B[0m\u001B[0my\u001B[0m\u001B[1;33m)\u001B[0m\u001B[1;33m\u001B[0m\u001B[1;33m\u001B[0m\u001B[0m\n\u001B[1;32m---> 69\u001B[1;33m             \u001B[0mtransformer\u001B[0m\u001B[1;33m.\u001B[0m\u001B[0mfit\u001B[0m\u001B[1;33m(\u001B[0m\u001B[1;33m*\u001B[0m\u001B[0margs\u001B[0m\u001B[1;33m)\u001B[0m\u001B[1;33m\u001B[0m\u001B[1;33m\u001B[0m\u001B[0m\n\u001B[0m\u001B[0;32m     70\u001B[0m     \u001B[1;32mreturn\u001B[0m \u001B[0mtransformer\u001B[0m\u001B[1;33m\u001B[0m\u001B[1;33m\u001B[0m\u001B[0m\n",
      "\u001B[1;32m~\\PycharmProjects\\TunHousePrices\\.venv\\Lib\\site-packages\\pycaret\\internal\\preprocess\\transformers.py\u001B[0m in \u001B[0;36m?\u001B[1;34m(self, X, y, **fit_params)\u001B[0m\n\u001B[0;32m    225\u001B[0m             \u001B[0margs\u001B[0m\u001B[1;33m.\u001B[0m\u001B[0mappend\u001B[0m\u001B[1;33m(\u001B[0m\u001B[0mX\u001B[0m\u001B[1;33m[\u001B[0m\u001B[0mself\u001B[0m\u001B[1;33m.\u001B[0m\u001B[0m_include\u001B[0m\u001B[1;33m]\u001B[0m\u001B[1;33m)\u001B[0m\u001B[1;33m\u001B[0m\u001B[1;33m\u001B[0m\u001B[0m\n\u001B[0;32m    226\u001B[0m         \u001B[1;32mif\u001B[0m \u001B[1;34m\"y\"\u001B[0m \u001B[1;32min\u001B[0m \u001B[0mtransformer_params\u001B[0m \u001B[1;32mand\u001B[0m \u001B[0my\u001B[0m \u001B[1;32mis\u001B[0m \u001B[1;32mnot\u001B[0m \u001B[1;32mNone\u001B[0m\u001B[1;33m:\u001B[0m\u001B[1;33m\u001B[0m\u001B[1;33m\u001B[0m\u001B[0m\n\u001B[0;32m    227\u001B[0m             \u001B[0margs\u001B[0m\u001B[1;33m.\u001B[0m\u001B[0mappend\u001B[0m\u001B[1;33m(\u001B[0m\u001B[0my\u001B[0m\u001B[1;33m)\u001B[0m\u001B[1;33m\u001B[0m\u001B[1;33m\u001B[0m\u001B[0m\n\u001B[0;32m    228\u001B[0m \u001B[1;33m\u001B[0m\u001B[0m\n\u001B[1;32m--> 229\u001B[1;33m         \u001B[0mself\u001B[0m\u001B[1;33m.\u001B[0m\u001B[0mtransformer\u001B[0m\u001B[1;33m.\u001B[0m\u001B[0mfit\u001B[0m\u001B[1;33m(\u001B[0m\u001B[1;33m*\u001B[0m\u001B[0margs\u001B[0m\u001B[1;33m,\u001B[0m \u001B[1;33m**\u001B[0m\u001B[0mfit_params\u001B[0m\u001B[1;33m)\u001B[0m\u001B[1;33m\u001B[0m\u001B[1;33m\u001B[0m\u001B[0m\n\u001B[0m\u001B[0;32m    230\u001B[0m         \u001B[1;32mreturn\u001B[0m \u001B[0mself\u001B[0m\u001B[1;33m\u001B[0m\u001B[1;33m\u001B[0m\u001B[0m\n",
      "\u001B[1;32m~\\PycharmProjects\\TunHousePrices\\.venv\\Lib\\site-packages\\category_encoders\\utils.py\u001B[0m in \u001B[0;36m?\u001B[1;34m(self, X, y, **kwargs)\u001B[0m\n\u001B[0;32m    301\u001B[0m         \u001B[1;32mif\u001B[0m \u001B[0mself\u001B[0m\u001B[1;33m.\u001B[0m\u001B[0mhandle_missing\u001B[0m \u001B[1;33m==\u001B[0m \u001B[1;34m'error'\u001B[0m\u001B[1;33m:\u001B[0m\u001B[1;33m\u001B[0m\u001B[1;33m\u001B[0m\u001B[0m\n\u001B[0;32m    302\u001B[0m             \u001B[1;32mif\u001B[0m \u001B[0mX\u001B[0m\u001B[1;33m[\u001B[0m\u001B[0mself\u001B[0m\u001B[1;33m.\u001B[0m\u001B[0mcols\u001B[0m\u001B[1;33m]\u001B[0m\u001B[1;33m.\u001B[0m\u001B[0misnull\u001B[0m\u001B[1;33m(\u001B[0m\u001B[1;33m)\u001B[0m\u001B[1;33m.\u001B[0m\u001B[0many\u001B[0m\u001B[1;33m(\u001B[0m\u001B[1;33m)\u001B[0m\u001B[1;33m.\u001B[0m\u001B[0many\u001B[0m\u001B[1;33m(\u001B[0m\u001B[1;33m)\u001B[0m\u001B[1;33m:\u001B[0m\u001B[1;33m\u001B[0m\u001B[1;33m\u001B[0m\u001B[0m\n\u001B[0;32m    303\u001B[0m                 \u001B[1;32mraise\u001B[0m \u001B[0mValueError\u001B[0m\u001B[1;33m(\u001B[0m\u001B[1;34m'Columns to be encoded can not contain null'\u001B[0m\u001B[1;33m)\u001B[0m\u001B[1;33m\u001B[0m\u001B[1;33m\u001B[0m\u001B[0m\n\u001B[0;32m    304\u001B[0m \u001B[1;33m\u001B[0m\u001B[0m\n\u001B[1;32m--> 305\u001B[1;33m         \u001B[0mself\u001B[0m\u001B[1;33m.\u001B[0m\u001B[0m_fit\u001B[0m\u001B[1;33m(\u001B[0m\u001B[0mX\u001B[0m\u001B[1;33m,\u001B[0m \u001B[0my\u001B[0m\u001B[1;33m,\u001B[0m \u001B[1;33m**\u001B[0m\u001B[0mkwargs\u001B[0m\u001B[1;33m)\u001B[0m\u001B[1;33m\u001B[0m\u001B[1;33m\u001B[0m\u001B[0m\n\u001B[0m\u001B[0;32m    306\u001B[0m \u001B[1;33m\u001B[0m\u001B[0m\n\u001B[0;32m    307\u001B[0m         \u001B[1;31m# for finding invariant columns transform without y (as is done on the test set)\u001B[0m\u001B[1;33m\u001B[0m\u001B[1;33m\u001B[0m\u001B[0m\n\u001B[0;32m    308\u001B[0m         \u001B[0mX_transformed\u001B[0m \u001B[1;33m=\u001B[0m \u001B[0mself\u001B[0m\u001B[1;33m.\u001B[0m\u001B[0mtransform\u001B[0m\u001B[1;33m(\u001B[0m\u001B[0mX\u001B[0m\u001B[1;33m,\u001B[0m \u001B[0moverride_return_df\u001B[0m\u001B[1;33m=\u001B[0m\u001B[1;32mTrue\u001B[0m\u001B[1;33m)\u001B[0m\u001B[1;33m\u001B[0m\u001B[1;33m\u001B[0m\u001B[0m\n",
      "\u001B[1;32m~\\PycharmProjects\\TunHousePrices\\.venv\\Lib\\site-packages\\category_encoders\\one_hot.py\u001B[0m in \u001B[0;36m?\u001B[1;34m(self, X, y, **kwargs)\u001B[0m\n\u001B[0;32m    121\u001B[0m             \u001B[0mhandle_unknown\u001B[0m\u001B[1;33m=\u001B[0m\u001B[1;34m'value'\u001B[0m\u001B[1;33m,\u001B[0m\u001B[1;33m\u001B[0m\u001B[1;33m\u001B[0m\u001B[0m\n\u001B[0;32m    122\u001B[0m             \u001B[0mhandle_missing\u001B[0m\u001B[1;33m=\u001B[0m\u001B[0moe_missing_strat\u001B[0m\u001B[1;33m,\u001B[0m\u001B[1;33m\u001B[0m\u001B[1;33m\u001B[0m\u001B[0m\n\u001B[0;32m    123\u001B[0m         )\n\u001B[0;32m    124\u001B[0m         \u001B[0mself\u001B[0m\u001B[1;33m.\u001B[0m\u001B[0mordinal_encoder\u001B[0m \u001B[1;33m=\u001B[0m \u001B[0mself\u001B[0m\u001B[1;33m.\u001B[0m\u001B[0mordinal_encoder\u001B[0m\u001B[1;33m.\u001B[0m\u001B[0mfit\u001B[0m\u001B[1;33m(\u001B[0m\u001B[0mX\u001B[0m\u001B[1;33m)\u001B[0m\u001B[1;33m\u001B[0m\u001B[1;33m\u001B[0m\u001B[0m\n\u001B[1;32m--> 125\u001B[1;33m         \u001B[0mself\u001B[0m\u001B[1;33m.\u001B[0m\u001B[0mmapping\u001B[0m \u001B[1;33m=\u001B[0m \u001B[0mself\u001B[0m\u001B[1;33m.\u001B[0m\u001B[0mgenerate_mapping\u001B[0m\u001B[1;33m(\u001B[0m\u001B[1;33m)\u001B[0m\u001B[1;33m\u001B[0m\u001B[1;33m\u001B[0m\u001B[0m\n\u001B[0m",
      "\u001B[1;32m~\\PycharmProjects\\TunHousePrices\\.venv\\Lib\\site-packages\\category_encoders\\one_hot.py\u001B[0m in \u001B[0;36m?\u001B[1;34m(self)\u001B[0m\n\u001B[0;32m    141\u001B[0m             \u001B[0mindex\u001B[0m \u001B[1;33m=\u001B[0m \u001B[1;33m[\u001B[0m\u001B[1;33m]\u001B[0m\u001B[1;33m\u001B[0m\u001B[1;33m\u001B[0m\u001B[0m\n\u001B[0;32m    142\u001B[0m             \u001B[0mnew_columns\u001B[0m \u001B[1;33m=\u001B[0m \u001B[1;33m[\u001B[0m\u001B[1;33m]\u001B[0m\u001B[1;33m\u001B[0m\u001B[1;33m\u001B[0m\u001B[0m\n\u001B[0;32m    143\u001B[0m \u001B[1;33m\u001B[0m\u001B[0m\n\u001B[0;32m    144\u001B[0m             \u001B[0mappend_nan_to_index\u001B[0m \u001B[1;33m=\u001B[0m \u001B[1;32mFalse\u001B[0m\u001B[1;33m\u001B[0m\u001B[1;33m\u001B[0m\u001B[0m\n\u001B[1;32m--> 145\u001B[1;33m             \u001B[1;32mfor\u001B[0m \u001B[0mcat_name\u001B[0m\u001B[1;33m,\u001B[0m \u001B[0mclass_\u001B[0m \u001B[1;32min\u001B[0m \u001B[0mvalues\u001B[0m\u001B[1;33m.\u001B[0m\u001B[0miteritems\u001B[0m\u001B[1;33m(\u001B[0m\u001B[1;33m)\u001B[0m\u001B[1;33m:\u001B[0m\u001B[1;33m\u001B[0m\u001B[1;33m\u001B[0m\u001B[0m\n\u001B[0m\u001B[0;32m    146\u001B[0m                 \u001B[1;32mif\u001B[0m \u001B[0mpd\u001B[0m\u001B[1;33m.\u001B[0m\u001B[0misna\u001B[0m\u001B[1;33m(\u001B[0m\u001B[0mcat_name\u001B[0m\u001B[1;33m)\u001B[0m \u001B[1;32mand\u001B[0m \u001B[0mself\u001B[0m\u001B[1;33m.\u001B[0m\u001B[0mhandle_missing\u001B[0m \u001B[1;33m==\u001B[0m \u001B[1;34m'return_nan'\u001B[0m\u001B[1;33m:\u001B[0m\u001B[1;33m\u001B[0m\u001B[1;33m\u001B[0m\u001B[0m\n\u001B[0;32m    147\u001B[0m                     \u001B[1;31m# we don't want a mapping column if return_nan\u001B[0m\u001B[1;33m\u001B[0m\u001B[1;33m\u001B[0m\u001B[0m\n\u001B[0;32m    148\u001B[0m                     \u001B[1;31m# but do add the index to the end\u001B[0m\u001B[1;33m\u001B[0m\u001B[1;33m\u001B[0m\u001B[0m\n",
      "\u001B[1;32m~\\PycharmProjects\\TunHousePrices\\.venv\\Lib\\site-packages\\pandas\\core\\generic.py\u001B[0m in \u001B[0;36m?\u001B[1;34m(self, name)\u001B[0m\n\u001B[0;32m   6200\u001B[0m             \u001B[1;32mand\u001B[0m \u001B[0mname\u001B[0m \u001B[1;32mnot\u001B[0m \u001B[1;32min\u001B[0m \u001B[0mself\u001B[0m\u001B[1;33m.\u001B[0m\u001B[0m_accessors\u001B[0m\u001B[1;33m\u001B[0m\u001B[1;33m\u001B[0m\u001B[0m\n\u001B[0;32m   6201\u001B[0m             \u001B[1;32mand\u001B[0m \u001B[0mself\u001B[0m\u001B[1;33m.\u001B[0m\u001B[0m_info_axis\u001B[0m\u001B[1;33m.\u001B[0m\u001B[0m_can_hold_identifiers_and_holds_name\u001B[0m\u001B[1;33m(\u001B[0m\u001B[0mname\u001B[0m\u001B[1;33m)\u001B[0m\u001B[1;33m\u001B[0m\u001B[1;33m\u001B[0m\u001B[0m\n\u001B[0;32m   6202\u001B[0m         ):\n\u001B[0;32m   6203\u001B[0m             \u001B[1;32mreturn\u001B[0m \u001B[0mself\u001B[0m\u001B[1;33m[\u001B[0m\u001B[0mname\u001B[0m\u001B[1;33m]\u001B[0m\u001B[1;33m\u001B[0m\u001B[1;33m\u001B[0m\u001B[0m\n\u001B[1;32m-> 6204\u001B[1;33m         \u001B[1;32mreturn\u001B[0m \u001B[0mobject\u001B[0m\u001B[1;33m.\u001B[0m\u001B[0m__getattribute__\u001B[0m\u001B[1;33m(\u001B[0m\u001B[0mself\u001B[0m\u001B[1;33m,\u001B[0m \u001B[0mname\u001B[0m\u001B[1;33m)\u001B[0m\u001B[1;33m\u001B[0m\u001B[1;33m\u001B[0m\u001B[0m\n\u001B[0m",
      "\u001B[1;31mAttributeError\u001B[0m: 'Series' object has no attribute 'iteritems'"
     ]
    }
   ],
   "execution_count": 36
  },
  {
   "cell_type": "code",
   "metadata": {
    "colab": {
     "base_uri": "https://localhost:8080/",
     "height": 544
    },
    "id": "NHJ-M4xTI985",
    "outputId": "d8056fd6-c6b8-4e10-a600-5ce58103100d"
   },
   "source": [
    "plot_model(best, plot = 'residuals')"
   ],
   "outputs": [],
   "execution_count": null
  },
  {
   "cell_type": "code",
   "source": "x = predict_model(best,data=test_df_encoded)\n",
   "metadata": {
    "colab": {
     "base_uri": "https://localhost:8080/",
     "height": 101
    },
    "id": "Y7ZEPo9Dx8fJ",
    "outputId": "7038ad7f-7311-4f17-f9b4-8c8415373aa8",
    "ExecuteTime": {
     "end_time": "2024-12-02T02:49:15.516893Z",
     "start_time": "2024-12-02T02:49:15.355162Z"
    }
   },
   "outputs": [
    {
     "data": {
      "text/plain": [
       "<pandas.io.formats.style.Styler at 0x18e1097d3d0>"
      ],
      "text/html": [
       "<style type=\"text/css\">\n",
       "</style>\n",
       "<table id=\"T_36f0f\">\n",
       "  <thead>\n",
       "    <tr>\n",
       "      <th class=\"blank level0\" >&nbsp;</th>\n",
       "      <th id=\"T_36f0f_level0_col0\" class=\"col_heading level0 col0\" >Model</th>\n",
       "      <th id=\"T_36f0f_level0_col1\" class=\"col_heading level0 col1\" >MAE</th>\n",
       "      <th id=\"T_36f0f_level0_col2\" class=\"col_heading level0 col2\" >MSE</th>\n",
       "      <th id=\"T_36f0f_level0_col3\" class=\"col_heading level0 col3\" >RMSE</th>\n",
       "      <th id=\"T_36f0f_level0_col4\" class=\"col_heading level0 col4\" >R2</th>\n",
       "      <th id=\"T_36f0f_level0_col5\" class=\"col_heading level0 col5\" >RMSLE</th>\n",
       "      <th id=\"T_36f0f_level0_col6\" class=\"col_heading level0 col6\" >MAPE</th>\n",
       "    </tr>\n",
       "  </thead>\n",
       "  <tbody>\n",
       "    <tr>\n",
       "      <th id=\"T_36f0f_level0_row0\" class=\"row_heading level0 row0\" >0</th>\n",
       "      <td id=\"T_36f0f_row0_col0\" class=\"data row0 col0\" >CatBoost Regressor</td>\n",
       "      <td id=\"T_36f0f_row0_col1\" class=\"data row0 col1\" >82745.5329</td>\n",
       "      <td id=\"T_36f0f_row0_col2\" class=\"data row0 col2\" >15312158324.9022</td>\n",
       "      <td id=\"T_36f0f_row0_col3\" class=\"data row0 col3\" >123742.3061</td>\n",
       "      <td id=\"T_36f0f_row0_col4\" class=\"data row0 col4\" >0.8120</td>\n",
       "      <td id=\"T_36f0f_row0_col5\" class=\"data row0 col5\" >0.3246</td>\n",
       "      <td id=\"T_36f0f_row0_col6\" class=\"data row0 col6\" >0.2551</td>\n",
       "    </tr>\n",
       "  </tbody>\n",
       "</table>\n"
      ]
     },
     "metadata": {},
     "output_type": "display_data"
    }
   ],
   "execution_count": 135
  },
  {
   "cell_type": "code",
   "source": [
    "test_df_encoded"
   ],
   "metadata": {
    "id": "7gNv7ik_IMQL",
    "colab": {
     "base_uri": "https://localhost:8080/",
     "height": 783
    },
    "outputId": "fcfa4fd7-d183-4bd7-c107-8548adbf4091",
    "ExecuteTime": {
     "end_time": "2024-12-02T02:49:15.526422Z",
     "start_time": "2024-12-02T02:49:15.517898Z"
    }
   },
   "outputs": [
    {
     "data": {
      "text/plain": [
       "      n_bedrooms  n_bathrooms    area     price  \\\n",
       "0            3.0          1.0    97.0  240000.0   \n",
       "1            3.0          1.0    85.0  200000.0   \n",
       "2            2.0          1.0    85.0  220000.0   \n",
       "3            1.0          1.0    75.0  195000.0   \n",
       "4            2.0          1.0    92.0  350000.0   \n",
       "...          ...          ...     ...       ...   \n",
       "1131         5.0          4.0   800.0  760000.0   \n",
       "1132         3.0          1.0   156.0  500000.0   \n",
       "1133         5.0          3.0   400.0  800000.0   \n",
       "1134         5.0          3.0  1000.0  800000.0   \n",
       "1135         3.0          2.0   182.0  320000.0   \n",
       "\n",
       "                                                  title         Type  \\\n",
       "0     Appartement S+2 tout neuf à vendre à Mrezga 51...  appartement   \n",
       "1                 appartement proche clinique violette   appartement   \n",
       "2        A VENDRE S+2 – AOUINA – TEL 52156061 – FB.5311  appartement   \n",
       "3     Avendre 2 appartement tré haut standing  a ham...  appartement   \n",
       "4                         Appartement Arès\\t(Réf: V970)  appartement   \n",
       "...                                                 ...          ...   \n",
       "1131                V371 Villa Warda WARDA HAMMAMET SUD        villa   \n",
       "1132                               Marsa Erriadh Duplex        villa   \n",
       "1133                         V421 Villa TIA BELLE VILLA        villa   \n",
       "1134  A VENDRE #Villa Prés #Salle des Fêtes Sghaier ...        villa   \n",
       "1135                   منزل 182 م² في حي القصيبة قليبية        villa   \n",
       "\n",
       "                city   state             state_city  Type_encoded  \\\n",
       "0             mrezga  nabeul          nabeul_mrezga             0   \n",
       "1           hammamet  nabeul        nabeul_hammamet             0   \n",
       "2           l'aouina   tunis         tunis_l'aouina             0   \n",
       "3     sousse jawhara  sousse  sousse_sousse jawhara             0   \n",
       "4           hammamet  nabeul        nabeul_hammamet             0   \n",
       "...              ...     ...                    ...           ...   \n",
       "1131    hammamet sud  nabeul    nabeul_hammamet sud             1   \n",
       "1132        la marsa   tunis         tunis_la marsa             1   \n",
       "1133    hammamet sud  nabeul    nabeul_hammamet sud             1   \n",
       "1134          akouda  sousse          sousse_akouda             1   \n",
       "1135         kelibia  nabeul         nabeul_kelibia             1   \n",
       "\n",
       "      state_city_encoded  \n",
       "0          599325.882353  \n",
       "1          776192.780518  \n",
       "2          668523.405188  \n",
       "3               514640.0  \n",
       "4          776192.780518  \n",
       "...                  ...  \n",
       "1131       792991.706161  \n",
       "1132       658529.411765  \n",
       "1133       792991.706161  \n",
       "1134            597475.0  \n",
       "1135       248600.446429  \n",
       "\n",
       "[1136 rows x 11 columns]"
      ],
      "text/html": [
       "<div>\n",
       "<style scoped>\n",
       "    .dataframe tbody tr th:only-of-type {\n",
       "        vertical-align: middle;\n",
       "    }\n",
       "\n",
       "    .dataframe tbody tr th {\n",
       "        vertical-align: top;\n",
       "    }\n",
       "\n",
       "    .dataframe thead th {\n",
       "        text-align: right;\n",
       "    }\n",
       "</style>\n",
       "<table border=\"1\" class=\"dataframe\">\n",
       "  <thead>\n",
       "    <tr style=\"text-align: right;\">\n",
       "      <th></th>\n",
       "      <th>n_bedrooms</th>\n",
       "      <th>n_bathrooms</th>\n",
       "      <th>area</th>\n",
       "      <th>price</th>\n",
       "      <th>title</th>\n",
       "      <th>Type</th>\n",
       "      <th>city</th>\n",
       "      <th>state</th>\n",
       "      <th>state_city</th>\n",
       "      <th>Type_encoded</th>\n",
       "      <th>state_city_encoded</th>\n",
       "    </tr>\n",
       "  </thead>\n",
       "  <tbody>\n",
       "    <tr>\n",
       "      <th>0</th>\n",
       "      <td>3.0</td>\n",
       "      <td>1.0</td>\n",
       "      <td>97.0</td>\n",
       "      <td>240000.0</td>\n",
       "      <td>Appartement S+2 tout neuf à vendre à Mrezga 51...</td>\n",
       "      <td>appartement</td>\n",
       "      <td>mrezga</td>\n",
       "      <td>nabeul</td>\n",
       "      <td>nabeul_mrezga</td>\n",
       "      <td>0</td>\n",
       "      <td>599325.882353</td>\n",
       "    </tr>\n",
       "    <tr>\n",
       "      <th>1</th>\n",
       "      <td>3.0</td>\n",
       "      <td>1.0</td>\n",
       "      <td>85.0</td>\n",
       "      <td>200000.0</td>\n",
       "      <td>appartement proche clinique violette</td>\n",
       "      <td>appartement</td>\n",
       "      <td>hammamet</td>\n",
       "      <td>nabeul</td>\n",
       "      <td>nabeul_hammamet</td>\n",
       "      <td>0</td>\n",
       "      <td>776192.780518</td>\n",
       "    </tr>\n",
       "    <tr>\n",
       "      <th>2</th>\n",
       "      <td>2.0</td>\n",
       "      <td>1.0</td>\n",
       "      <td>85.0</td>\n",
       "      <td>220000.0</td>\n",
       "      <td>A VENDRE S+2 – AOUINA – TEL 52156061 – FB.5311</td>\n",
       "      <td>appartement</td>\n",
       "      <td>l'aouina</td>\n",
       "      <td>tunis</td>\n",
       "      <td>tunis_l'aouina</td>\n",
       "      <td>0</td>\n",
       "      <td>668523.405188</td>\n",
       "    </tr>\n",
       "    <tr>\n",
       "      <th>3</th>\n",
       "      <td>1.0</td>\n",
       "      <td>1.0</td>\n",
       "      <td>75.0</td>\n",
       "      <td>195000.0</td>\n",
       "      <td>Avendre 2 appartement tré haut standing  a ham...</td>\n",
       "      <td>appartement</td>\n",
       "      <td>sousse jawhara</td>\n",
       "      <td>sousse</td>\n",
       "      <td>sousse_sousse jawhara</td>\n",
       "      <td>0</td>\n",
       "      <td>514640.0</td>\n",
       "    </tr>\n",
       "    <tr>\n",
       "      <th>4</th>\n",
       "      <td>2.0</td>\n",
       "      <td>1.0</td>\n",
       "      <td>92.0</td>\n",
       "      <td>350000.0</td>\n",
       "      <td>Appartement Arès\\t(Réf: V970)</td>\n",
       "      <td>appartement</td>\n",
       "      <td>hammamet</td>\n",
       "      <td>nabeul</td>\n",
       "      <td>nabeul_hammamet</td>\n",
       "      <td>0</td>\n",
       "      <td>776192.780518</td>\n",
       "    </tr>\n",
       "    <tr>\n",
       "      <th>...</th>\n",
       "      <td>...</td>\n",
       "      <td>...</td>\n",
       "      <td>...</td>\n",
       "      <td>...</td>\n",
       "      <td>...</td>\n",
       "      <td>...</td>\n",
       "      <td>...</td>\n",
       "      <td>...</td>\n",
       "      <td>...</td>\n",
       "      <td>...</td>\n",
       "      <td>...</td>\n",
       "    </tr>\n",
       "    <tr>\n",
       "      <th>1131</th>\n",
       "      <td>5.0</td>\n",
       "      <td>4.0</td>\n",
       "      <td>800.0</td>\n",
       "      <td>760000.0</td>\n",
       "      <td>V371 Villa Warda WARDA HAMMAMET SUD</td>\n",
       "      <td>villa</td>\n",
       "      <td>hammamet sud</td>\n",
       "      <td>nabeul</td>\n",
       "      <td>nabeul_hammamet sud</td>\n",
       "      <td>1</td>\n",
       "      <td>792991.706161</td>\n",
       "    </tr>\n",
       "    <tr>\n",
       "      <th>1132</th>\n",
       "      <td>3.0</td>\n",
       "      <td>1.0</td>\n",
       "      <td>156.0</td>\n",
       "      <td>500000.0</td>\n",
       "      <td>Marsa Erriadh Duplex</td>\n",
       "      <td>villa</td>\n",
       "      <td>la marsa</td>\n",
       "      <td>tunis</td>\n",
       "      <td>tunis_la marsa</td>\n",
       "      <td>1</td>\n",
       "      <td>658529.411765</td>\n",
       "    </tr>\n",
       "    <tr>\n",
       "      <th>1133</th>\n",
       "      <td>5.0</td>\n",
       "      <td>3.0</td>\n",
       "      <td>400.0</td>\n",
       "      <td>800000.0</td>\n",
       "      <td>V421 Villa TIA BELLE VILLA</td>\n",
       "      <td>villa</td>\n",
       "      <td>hammamet sud</td>\n",
       "      <td>nabeul</td>\n",
       "      <td>nabeul_hammamet sud</td>\n",
       "      <td>1</td>\n",
       "      <td>792991.706161</td>\n",
       "    </tr>\n",
       "    <tr>\n",
       "      <th>1134</th>\n",
       "      <td>5.0</td>\n",
       "      <td>3.0</td>\n",
       "      <td>1000.0</td>\n",
       "      <td>800000.0</td>\n",
       "      <td>A VENDRE #Villa Prés #Salle des Fêtes Sghaier ...</td>\n",
       "      <td>villa</td>\n",
       "      <td>akouda</td>\n",
       "      <td>sousse</td>\n",
       "      <td>sousse_akouda</td>\n",
       "      <td>1</td>\n",
       "      <td>597475.0</td>\n",
       "    </tr>\n",
       "    <tr>\n",
       "      <th>1135</th>\n",
       "      <td>3.0</td>\n",
       "      <td>2.0</td>\n",
       "      <td>182.0</td>\n",
       "      <td>320000.0</td>\n",
       "      <td>منزل 182 م² في حي القصيبة قليبية</td>\n",
       "      <td>villa</td>\n",
       "      <td>kelibia</td>\n",
       "      <td>nabeul</td>\n",
       "      <td>nabeul_kelibia</td>\n",
       "      <td>1</td>\n",
       "      <td>248600.446429</td>\n",
       "    </tr>\n",
       "  </tbody>\n",
       "</table>\n",
       "<p>1136 rows × 11 columns</p>\n",
       "</div>"
      ]
     },
     "execution_count": 136,
     "metadata": {},
     "output_type": "execute_result"
    }
   ],
   "execution_count": 136
  },
  {
   "metadata": {
    "ExecuteTime": {
     "end_time": "2024-12-02T02:49:51.777719Z",
     "start_time": "2024-12-02T02:49:51.772808Z"
    }
   },
   "cell_type": "code",
   "source": [
    "dictionary = {'area':130,'n_bedrooms':3,'n_bathrooms':1,'Type':'villa','state':'nabeul','city':'mrezga'}\n",
    "props = pd.DataFrame(dictionary,index=[0])"
   ],
   "outputs": [],
   "execution_count": 141
  },
  {
   "cell_type": "code",
   "source": [
    "props = prepare_test_set(HAXOR, props, 'Type', 'state',threshold=THRESHOLD,escape=None)\n",
    "props = prepare_test_set(HAXOR, props, 'Type', 'city',threshold=THRESHOLD,escape=None)"
   ],
   "metadata": {
    "id": "_1w1UWhsrk9o",
    "ExecuteTime": {
     "end_time": "2024-12-02T02:49:52.647668Z",
     "start_time": "2024-12-02T02:49:52.641392Z"
    }
   },
   "outputs": [],
   "execution_count": 142
  },
  {
   "metadata": {
    "ExecuteTime": {
     "end_time": "2024-12-02T02:49:52.868449Z",
     "start_time": "2024-12-02T02:49:52.859817Z"
    }
   },
   "cell_type": "code",
   "source": [
    "props['state_city'] = props['state'] + '_' + props['city']\n",
    "props_encoded = encode_dataframe(props, target_encoder, type_encoder)\n"
   ],
   "outputs": [],
   "execution_count": 143
  },
  {
   "metadata": {
    "ExecuteTime": {
     "end_time": "2024-12-02T02:49:53.663658Z",
     "start_time": "2024-12-02T02:49:53.501760Z"
    }
   },
   "cell_type": "code",
   "source": "predict_model(best,data=props_encoded)",
   "outputs": [
    {
     "data": {
      "text/plain": [
       "<IPython.core.display.HTML object>"
      ],
      "text/html": []
     },
     "metadata": {},
     "output_type": "display_data"
    },
    {
     "data": {
      "text/plain": [
       "   area  n_bedrooms  n_bathrooms   Type   state    city     state_city  \\\n",
       "0   130           3            1  villa  nabeul  mrezga  nabeul_mrezga   \n",
       "\n",
       "   Type_encoded  state_city_encoded  prediction_label  \n",
       "0             1       599325.882353     366801.310447  "
      ],
      "text/html": [
       "<div>\n",
       "<style scoped>\n",
       "    .dataframe tbody tr th:only-of-type {\n",
       "        vertical-align: middle;\n",
       "    }\n",
       "\n",
       "    .dataframe tbody tr th {\n",
       "        vertical-align: top;\n",
       "    }\n",
       "\n",
       "    .dataframe thead th {\n",
       "        text-align: right;\n",
       "    }\n",
       "</style>\n",
       "<table border=\"1\" class=\"dataframe\">\n",
       "  <thead>\n",
       "    <tr style=\"text-align: right;\">\n",
       "      <th></th>\n",
       "      <th>area</th>\n",
       "      <th>n_bedrooms</th>\n",
       "      <th>n_bathrooms</th>\n",
       "      <th>Type</th>\n",
       "      <th>state</th>\n",
       "      <th>city</th>\n",
       "      <th>state_city</th>\n",
       "      <th>Type_encoded</th>\n",
       "      <th>state_city_encoded</th>\n",
       "      <th>prediction_label</th>\n",
       "    </tr>\n",
       "  </thead>\n",
       "  <tbody>\n",
       "    <tr>\n",
       "      <th>0</th>\n",
       "      <td>130</td>\n",
       "      <td>3</td>\n",
       "      <td>1</td>\n",
       "      <td>villa</td>\n",
       "      <td>nabeul</td>\n",
       "      <td>mrezga</td>\n",
       "      <td>nabeul_mrezga</td>\n",
       "      <td>1</td>\n",
       "      <td>599325.882353</td>\n",
       "      <td>366801.310447</td>\n",
       "    </tr>\n",
       "  </tbody>\n",
       "</table>\n",
       "</div>"
      ]
     },
     "execution_count": 144,
     "metadata": {},
     "output_type": "execute_result"
    }
   ],
   "execution_count": 144
  },
  {
   "metadata": {
    "ExecuteTime": {
     "end_time": "2024-12-02T02:49:15.734373Z",
     "start_time": "2024-12-02T02:49:15.732003Z"
    }
   },
   "cell_type": "code",
   "source": "",
   "outputs": [],
   "execution_count": 140
  },
  {
   "metadata": {
    "ExecuteTime": {
     "end_time": "2024-12-02T02:49:15.738216Z",
     "start_time": "2024-12-02T02:49:15.735382Z"
    }
   },
   "cell_type": "code",
   "source": "",
   "outputs": [],
   "execution_count": 140
  },
  {
   "metadata": {
    "ExecuteTime": {
     "end_time": "2024-12-02T02:49:15.800980Z",
     "start_time": "2024-12-02T02:49:15.798366Z"
    }
   },
   "cell_type": "code",
   "source": "",
   "outputs": [],
   "execution_count": 140
  },
  {
   "metadata": {
    "ExecuteTime": {
     "end_time": "2024-12-02T02:49:15.803496Z",
     "start_time": "2024-12-02T02:49:15.800980Z"
    }
   },
   "cell_type": "code",
   "source": "",
   "outputs": [],
   "execution_count": 140
  },
  {
   "metadata": {},
   "cell_type": "code",
   "outputs": [],
   "execution_count": null,
   "source": ""
  }
 ],
 "metadata": {
  "colab": {
   "provenance": []
  },
  "kernelspec": {
   "display_name": "Python 3 (ipykernel)",
   "name": "python3",
   "language": "python"
  },
  "language_info": {
   "name": "python"
  },
  "widgets": {
   "application/vnd.jupyter.widget-state+json": {
    "6626c84798dd4279ac748abbb4e50c83": {
     "model_module": "@jupyter-widgets/controls",
     "model_name": "HBoxModel",
     "model_module_version": "1.5.0",
     "state": {
      "_dom_classes": [],
      "_model_module": "@jupyter-widgets/controls",
      "_model_module_version": "1.5.0",
      "_model_name": "HBoxModel",
      "_view_count": null,
      "_view_module": "@jupyter-widgets/controls",
      "_view_module_version": "1.5.0",
      "_view_name": "HBoxView",
      "box_style": "",
      "children": [
       "IPY_MODEL_e7f88a3c230f4343a365d771c0f2d09f",
       "IPY_MODEL_003972f711564cad9f7bf9cf6b9d6b85",
       "IPY_MODEL_9bf8738238dc4a4e8fd19b5053d50143"
      ],
      "layout": "IPY_MODEL_d462a7daca9c44709cd36c39d8538b2b"
     }
    },
    "e7f88a3c230f4343a365d771c0f2d09f": {
     "model_module": "@jupyter-widgets/controls",
     "model_name": "HTMLModel",
     "model_module_version": "1.5.0",
     "state": {
      "_dom_classes": [],
      "_model_module": "@jupyter-widgets/controls",
      "_model_module_version": "1.5.0",
      "_model_name": "HTMLModel",
      "_view_count": null,
      "_view_module": "@jupyter-widgets/controls",
      "_view_module_version": "1.5.0",
      "_view_name": "HTMLView",
      "description": "",
      "description_tooltip": null,
      "layout": "IPY_MODEL_a2a06edb28be4b8fadae1248080fac42",
      "placeholder": "​",
      "style": "IPY_MODEL_8747a0c18ac84a7c875b15fcdc77bdf5",
      "value": "Processing: 100%"
     }
    },
    "003972f711564cad9f7bf9cf6b9d6b85": {
     "model_module": "@jupyter-widgets/controls",
     "model_name": "FloatProgressModel",
     "model_module_version": "1.5.0",
     "state": {
      "_dom_classes": [],
      "_model_module": "@jupyter-widgets/controls",
      "_model_module_version": "1.5.0",
      "_model_name": "FloatProgressModel",
      "_view_count": null,
      "_view_module": "@jupyter-widgets/controls",
      "_view_module_version": "1.5.0",
      "_view_name": "ProgressView",
      "bar_style": "",
      "description": "",
      "description_tooltip": null,
      "layout": "IPY_MODEL_691c7efcafee477eb8d25206362438f8",
      "max": 85,
      "min": 0,
      "orientation": "horizontal",
      "style": "IPY_MODEL_801f397e4d4b44efb025cb6d6afc5ccf",
      "value": 85
     }
    },
    "9bf8738238dc4a4e8fd19b5053d50143": {
     "model_module": "@jupyter-widgets/controls",
     "model_name": "HTMLModel",
     "model_module_version": "1.5.0",
     "state": {
      "_dom_classes": [],
      "_model_module": "@jupyter-widgets/controls",
      "_model_module_version": "1.5.0",
      "_model_name": "HTMLModel",
      "_view_count": null,
      "_view_module": "@jupyter-widgets/controls",
      "_view_module_version": "1.5.0",
      "_view_name": "HTMLView",
      "description": "",
      "description_tooltip": null,
      "layout": "IPY_MODEL_52630aff36524f139ab730d133ddc85e",
      "placeholder": "​",
      "style": "IPY_MODEL_ea7ac605d4ef4cf68580c1301a050550",
      "value": " 85/85 [02:52&lt;00:00,  2.91s/it]"
     }
    },
    "d462a7daca9c44709cd36c39d8538b2b": {
     "model_module": "@jupyter-widgets/base",
     "model_name": "LayoutModel",
     "model_module_version": "1.2.0",
     "state": {
      "_model_module": "@jupyter-widgets/base",
      "_model_module_version": "1.2.0",
      "_model_name": "LayoutModel",
      "_view_count": null,
      "_view_module": "@jupyter-widgets/base",
      "_view_module_version": "1.2.0",
      "_view_name": "LayoutView",
      "align_content": null,
      "align_items": null,
      "align_self": null,
      "border": null,
      "bottom": null,
      "display": null,
      "flex": null,
      "flex_flow": null,
      "grid_area": null,
      "grid_auto_columns": null,
      "grid_auto_flow": null,
      "grid_auto_rows": null,
      "grid_column": null,
      "grid_gap": null,
      "grid_row": null,
      "grid_template_areas": null,
      "grid_template_columns": null,
      "grid_template_rows": null,
      "height": null,
      "justify_content": null,
      "justify_items": null,
      "left": null,
      "margin": null,
      "max_height": null,
      "max_width": null,
      "min_height": null,
      "min_width": null,
      "object_fit": null,
      "object_position": null,
      "order": null,
      "overflow": null,
      "overflow_x": null,
      "overflow_y": null,
      "padding": null,
      "right": null,
      "top": null,
      "visibility": "hidden",
      "width": null
     }
    },
    "a2a06edb28be4b8fadae1248080fac42": {
     "model_module": "@jupyter-widgets/base",
     "model_name": "LayoutModel",
     "model_module_version": "1.2.0",
     "state": {
      "_model_module": "@jupyter-widgets/base",
      "_model_module_version": "1.2.0",
      "_model_name": "LayoutModel",
      "_view_count": null,
      "_view_module": "@jupyter-widgets/base",
      "_view_module_version": "1.2.0",
      "_view_name": "LayoutView",
      "align_content": null,
      "align_items": null,
      "align_self": null,
      "border": null,
      "bottom": null,
      "display": null,
      "flex": null,
      "flex_flow": null,
      "grid_area": null,
      "grid_auto_columns": null,
      "grid_auto_flow": null,
      "grid_auto_rows": null,
      "grid_column": null,
      "grid_gap": null,
      "grid_row": null,
      "grid_template_areas": null,
      "grid_template_columns": null,
      "grid_template_rows": null,
      "height": null,
      "justify_content": null,
      "justify_items": null,
      "left": null,
      "margin": null,
      "max_height": null,
      "max_width": null,
      "min_height": null,
      "min_width": null,
      "object_fit": null,
      "object_position": null,
      "order": null,
      "overflow": null,
      "overflow_x": null,
      "overflow_y": null,
      "padding": null,
      "right": null,
      "top": null,
      "visibility": null,
      "width": null
     }
    },
    "8747a0c18ac84a7c875b15fcdc77bdf5": {
     "model_module": "@jupyter-widgets/controls",
     "model_name": "DescriptionStyleModel",
     "model_module_version": "1.5.0",
     "state": {
      "_model_module": "@jupyter-widgets/controls",
      "_model_module_version": "1.5.0",
      "_model_name": "DescriptionStyleModel",
      "_view_count": null,
      "_view_module": "@jupyter-widgets/base",
      "_view_module_version": "1.2.0",
      "_view_name": "StyleView",
      "description_width": ""
     }
    },
    "691c7efcafee477eb8d25206362438f8": {
     "model_module": "@jupyter-widgets/base",
     "model_name": "LayoutModel",
     "model_module_version": "1.2.0",
     "state": {
      "_model_module": "@jupyter-widgets/base",
      "_model_module_version": "1.2.0",
      "_model_name": "LayoutModel",
      "_view_count": null,
      "_view_module": "@jupyter-widgets/base",
      "_view_module_version": "1.2.0",
      "_view_name": "LayoutView",
      "align_content": null,
      "align_items": null,
      "align_self": null,
      "border": null,
      "bottom": null,
      "display": null,
      "flex": null,
      "flex_flow": null,
      "grid_area": null,
      "grid_auto_columns": null,
      "grid_auto_flow": null,
      "grid_auto_rows": null,
      "grid_column": null,
      "grid_gap": null,
      "grid_row": null,
      "grid_template_areas": null,
      "grid_template_columns": null,
      "grid_template_rows": null,
      "height": null,
      "justify_content": null,
      "justify_items": null,
      "left": null,
      "margin": null,
      "max_height": null,
      "max_width": null,
      "min_height": null,
      "min_width": null,
      "object_fit": null,
      "object_position": null,
      "order": null,
      "overflow": null,
      "overflow_x": null,
      "overflow_y": null,
      "padding": null,
      "right": null,
      "top": null,
      "visibility": null,
      "width": null
     }
    },
    "801f397e4d4b44efb025cb6d6afc5ccf": {
     "model_module": "@jupyter-widgets/controls",
     "model_name": "ProgressStyleModel",
     "model_module_version": "1.5.0",
     "state": {
      "_model_module": "@jupyter-widgets/controls",
      "_model_module_version": "1.5.0",
      "_model_name": "ProgressStyleModel",
      "_view_count": null,
      "_view_module": "@jupyter-widgets/base",
      "_view_module_version": "1.2.0",
      "_view_name": "StyleView",
      "bar_color": null,
      "description_width": ""
     }
    },
    "52630aff36524f139ab730d133ddc85e": {
     "model_module": "@jupyter-widgets/base",
     "model_name": "LayoutModel",
     "model_module_version": "1.2.0",
     "state": {
      "_model_module": "@jupyter-widgets/base",
      "_model_module_version": "1.2.0",
      "_model_name": "LayoutModel",
      "_view_count": null,
      "_view_module": "@jupyter-widgets/base",
      "_view_module_version": "1.2.0",
      "_view_name": "LayoutView",
      "align_content": null,
      "align_items": null,
      "align_self": null,
      "border": null,
      "bottom": null,
      "display": null,
      "flex": null,
      "flex_flow": null,
      "grid_area": null,
      "grid_auto_columns": null,
      "grid_auto_flow": null,
      "grid_auto_rows": null,
      "grid_column": null,
      "grid_gap": null,
      "grid_row": null,
      "grid_template_areas": null,
      "grid_template_columns": null,
      "grid_template_rows": null,
      "height": null,
      "justify_content": null,
      "justify_items": null,
      "left": null,
      "margin": null,
      "max_height": null,
      "max_width": null,
      "min_height": null,
      "min_width": null,
      "object_fit": null,
      "object_position": null,
      "order": null,
      "overflow": null,
      "overflow_x": null,
      "overflow_y": null,
      "padding": null,
      "right": null,
      "top": null,
      "visibility": null,
      "width": null
     }
    },
    "ea7ac605d4ef4cf68580c1301a050550": {
     "model_module": "@jupyter-widgets/controls",
     "model_name": "DescriptionStyleModel",
     "model_module_version": "1.5.0",
     "state": {
      "_model_module": "@jupyter-widgets/controls",
      "_model_module_version": "1.5.0",
      "_model_name": "DescriptionStyleModel",
      "_view_count": null,
      "_view_module": "@jupyter-widgets/base",
      "_view_module_version": "1.2.0",
      "_view_name": "StyleView",
      "description_width": ""
     }
    }
   }
  }
 },
 "nbformat": 4,
 "nbformat_minor": 0
}
